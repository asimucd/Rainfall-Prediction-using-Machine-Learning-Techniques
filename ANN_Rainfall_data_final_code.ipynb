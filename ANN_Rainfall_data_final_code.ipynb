{
 "cells": [
  {
   "cell_type": "code",
   "execution_count": 1,
   "metadata": {
    "id": "Zia5i2_8stNX"
   },
   "outputs": [
    {
     "name": "stdout",
     "output_type": "stream",
     "text": [
      "D:\\Big Data\n"
     ]
    }
   ],
   "source": [
    "cd \"D:\\Big Data\""
   ]
  },
  {
   "cell_type": "code",
   "execution_count": 2,
   "metadata": {
    "id": "LG_PLTcTF4G4"
   },
   "outputs": [],
   "source": [
    "import pandas as pd\n",
    "import numpy as np"
   ]
  },
  {
   "cell_type": "code",
   "execution_count": 3,
   "metadata": {
    "id": "4RX-BrdtGC6S"
   },
   "outputs": [],
   "source": [
    "import matplotlib.pyplot as plt\n",
    "import seaborn as sns\n",
    "%matplotlib inline"
   ]
  },
  {
   "cell_type": "code",
   "execution_count": 4,
   "metadata": {
    "id": "4jTvDSAjGEfc"
   },
   "outputs": [],
   "source": [
    "df = pd.read_csv('weatherAUS.csv')"
   ]
  },
  {
   "cell_type": "code",
   "execution_count": 5,
   "metadata": {
    "colab": {
     "base_uri": "https://localhost:8080/",
     "height": 299
    },
    "id": "AupRPU2_GRXn",
    "outputId": "4c065778-203f-415f-df61-0f6236c7b411"
   },
   "outputs": [
    {
     "data": {
      "text/html": [
       "<div>\n",
       "<style scoped>\n",
       "    .dataframe tbody tr th:only-of-type {\n",
       "        vertical-align: middle;\n",
       "    }\n",
       "\n",
       "    .dataframe tbody tr th {\n",
       "        vertical-align: top;\n",
       "    }\n",
       "\n",
       "    .dataframe thead th {\n",
       "        text-align: right;\n",
       "    }\n",
       "</style>\n",
       "<table border=\"1\" class=\"dataframe\">\n",
       "  <thead>\n",
       "    <tr style=\"text-align: right;\">\n",
       "      <th></th>\n",
       "      <th>Date</th>\n",
       "      <th>Location</th>\n",
       "      <th>MinTemp</th>\n",
       "      <th>MaxTemp</th>\n",
       "      <th>Rainfall</th>\n",
       "      <th>Evaporation</th>\n",
       "      <th>Sunshine</th>\n",
       "      <th>WindGustDir</th>\n",
       "      <th>WindGustSpeed</th>\n",
       "      <th>WindDir9am</th>\n",
       "      <th>...</th>\n",
       "      <th>Humidity9am</th>\n",
       "      <th>Humidity3pm</th>\n",
       "      <th>Pressure9am</th>\n",
       "      <th>Pressure3pm</th>\n",
       "      <th>Cloud9am</th>\n",
       "      <th>Cloud3pm</th>\n",
       "      <th>Temp9am</th>\n",
       "      <th>Temp3pm</th>\n",
       "      <th>RainToday</th>\n",
       "      <th>RainTomorrow</th>\n",
       "    </tr>\n",
       "  </thead>\n",
       "  <tbody>\n",
       "    <tr>\n",
       "      <th>0</th>\n",
       "      <td>12/1/2008</td>\n",
       "      <td>Albury</td>\n",
       "      <td>13.4</td>\n",
       "      <td>22.9</td>\n",
       "      <td>0.6</td>\n",
       "      <td>NaN</td>\n",
       "      <td>NaN</td>\n",
       "      <td>W</td>\n",
       "      <td>44.0</td>\n",
       "      <td>W</td>\n",
       "      <td>...</td>\n",
       "      <td>71.0</td>\n",
       "      <td>22.0</td>\n",
       "      <td>1007.7</td>\n",
       "      <td>1007.1</td>\n",
       "      <td>8.0</td>\n",
       "      <td>NaN</td>\n",
       "      <td>16.9</td>\n",
       "      <td>21.8</td>\n",
       "      <td>No</td>\n",
       "      <td>No</td>\n",
       "    </tr>\n",
       "    <tr>\n",
       "      <th>1</th>\n",
       "      <td>12/2/2008</td>\n",
       "      <td>Albury</td>\n",
       "      <td>7.4</td>\n",
       "      <td>25.1</td>\n",
       "      <td>0.0</td>\n",
       "      <td>NaN</td>\n",
       "      <td>NaN</td>\n",
       "      <td>WNW</td>\n",
       "      <td>44.0</td>\n",
       "      <td>NNW</td>\n",
       "      <td>...</td>\n",
       "      <td>44.0</td>\n",
       "      <td>25.0</td>\n",
       "      <td>1010.6</td>\n",
       "      <td>1007.8</td>\n",
       "      <td>NaN</td>\n",
       "      <td>NaN</td>\n",
       "      <td>17.2</td>\n",
       "      <td>24.3</td>\n",
       "      <td>No</td>\n",
       "      <td>No</td>\n",
       "    </tr>\n",
       "    <tr>\n",
       "      <th>2</th>\n",
       "      <td>12/3/2008</td>\n",
       "      <td>Albury</td>\n",
       "      <td>12.9</td>\n",
       "      <td>25.7</td>\n",
       "      <td>0.0</td>\n",
       "      <td>NaN</td>\n",
       "      <td>NaN</td>\n",
       "      <td>WSW</td>\n",
       "      <td>46.0</td>\n",
       "      <td>W</td>\n",
       "      <td>...</td>\n",
       "      <td>38.0</td>\n",
       "      <td>30.0</td>\n",
       "      <td>1007.6</td>\n",
       "      <td>1008.7</td>\n",
       "      <td>NaN</td>\n",
       "      <td>2.0</td>\n",
       "      <td>21.0</td>\n",
       "      <td>23.2</td>\n",
       "      <td>No</td>\n",
       "      <td>No</td>\n",
       "    </tr>\n",
       "    <tr>\n",
       "      <th>3</th>\n",
       "      <td>12/4/2008</td>\n",
       "      <td>Albury</td>\n",
       "      <td>9.2</td>\n",
       "      <td>28.0</td>\n",
       "      <td>0.0</td>\n",
       "      <td>NaN</td>\n",
       "      <td>NaN</td>\n",
       "      <td>NE</td>\n",
       "      <td>24.0</td>\n",
       "      <td>SE</td>\n",
       "      <td>...</td>\n",
       "      <td>45.0</td>\n",
       "      <td>16.0</td>\n",
       "      <td>1017.6</td>\n",
       "      <td>1012.8</td>\n",
       "      <td>NaN</td>\n",
       "      <td>NaN</td>\n",
       "      <td>18.1</td>\n",
       "      <td>26.5</td>\n",
       "      <td>No</td>\n",
       "      <td>No</td>\n",
       "    </tr>\n",
       "    <tr>\n",
       "      <th>4</th>\n",
       "      <td>12/5/2008</td>\n",
       "      <td>Albury</td>\n",
       "      <td>17.5</td>\n",
       "      <td>32.3</td>\n",
       "      <td>1.0</td>\n",
       "      <td>NaN</td>\n",
       "      <td>NaN</td>\n",
       "      <td>W</td>\n",
       "      <td>41.0</td>\n",
       "      <td>ENE</td>\n",
       "      <td>...</td>\n",
       "      <td>82.0</td>\n",
       "      <td>33.0</td>\n",
       "      <td>1010.8</td>\n",
       "      <td>1006.0</td>\n",
       "      <td>7.0</td>\n",
       "      <td>8.0</td>\n",
       "      <td>17.8</td>\n",
       "      <td>29.7</td>\n",
       "      <td>No</td>\n",
       "      <td>No</td>\n",
       "    </tr>\n",
       "  </tbody>\n",
       "</table>\n",
       "<p>5 rows × 23 columns</p>\n",
       "</div>"
      ],
      "text/plain": [
       "        Date Location  MinTemp  MaxTemp  Rainfall  Evaporation  Sunshine  \\\n",
       "0  12/1/2008   Albury     13.4     22.9       0.6          NaN       NaN   \n",
       "1  12/2/2008   Albury      7.4     25.1       0.0          NaN       NaN   \n",
       "2  12/3/2008   Albury     12.9     25.7       0.0          NaN       NaN   \n",
       "3  12/4/2008   Albury      9.2     28.0       0.0          NaN       NaN   \n",
       "4  12/5/2008   Albury     17.5     32.3       1.0          NaN       NaN   \n",
       "\n",
       "  WindGustDir  WindGustSpeed WindDir9am  ... Humidity9am  Humidity3pm  \\\n",
       "0           W           44.0          W  ...        71.0         22.0   \n",
       "1         WNW           44.0        NNW  ...        44.0         25.0   \n",
       "2         WSW           46.0          W  ...        38.0         30.0   \n",
       "3          NE           24.0         SE  ...        45.0         16.0   \n",
       "4           W           41.0        ENE  ...        82.0         33.0   \n",
       "\n",
       "   Pressure9am  Pressure3pm  Cloud9am  Cloud3pm  Temp9am  Temp3pm  RainToday  \\\n",
       "0       1007.7       1007.1       8.0       NaN     16.9     21.8         No   \n",
       "1       1010.6       1007.8       NaN       NaN     17.2     24.3         No   \n",
       "2       1007.6       1008.7       NaN       2.0     21.0     23.2         No   \n",
       "3       1017.6       1012.8       NaN       NaN     18.1     26.5         No   \n",
       "4       1010.8       1006.0       7.0       8.0     17.8     29.7         No   \n",
       "\n",
       "   RainTomorrow  \n",
       "0            No  \n",
       "1            No  \n",
       "2            No  \n",
       "3            No  \n",
       "4            No  \n",
       "\n",
       "[5 rows x 23 columns]"
      ]
     },
     "execution_count": 5,
     "metadata": {},
     "output_type": "execute_result"
    }
   ],
   "source": [
    "df.head()"
   ]
  },
  {
   "cell_type": "code",
   "execution_count": 6,
   "metadata": {
    "colab": {
     "base_uri": "https://localhost:8080/"
    },
    "id": "XcscErnCGUil",
    "outputId": "3becbc57-4de2-420f-9be5-edad2156a529"
   },
   "outputs": [
    {
     "data": {
      "text/plain": [
       "Date                 0\n",
       "Location             0\n",
       "MinTemp           1485\n",
       "MaxTemp           1261\n",
       "Rainfall          3261\n",
       "Evaporation      62790\n",
       "Sunshine         69835\n",
       "WindGustDir      10326\n",
       "WindGustSpeed    10263\n",
       "WindDir9am       10566\n",
       "WindDir3pm        4228\n",
       "WindSpeed9am      1767\n",
       "WindSpeed3pm      3062\n",
       "Humidity9am       2654\n",
       "Humidity3pm       4507\n",
       "Pressure9am      15065\n",
       "Pressure3pm      15028\n",
       "Cloud9am         55888\n",
       "Cloud3pm         59358\n",
       "Temp9am           1767\n",
       "Temp3pm           3609\n",
       "RainToday         3261\n",
       "RainTomorrow      3267\n",
       "dtype: int64"
      ]
     },
     "execution_count": 6,
     "metadata": {},
     "output_type": "execute_result"
    }
   ],
   "source": [
    "#There are too many missing values in Evaporation, Sunshine Cloud9am, Cloud3pm, so we will drop these columns\n",
    "#and impute the other columns for missing values\n",
    "#Also, there are some missing values for our target variable RainTomorrow and also for RainToday, we will drop the missing rows \n",
    "#of these two columns as well\n",
    "df.isnull().sum(axis = 0)"
   ]
  },
  {
   "cell_type": "code",
   "execution_count": 7,
   "metadata": {
    "colab": {
     "base_uri": "https://localhost:8080/",
     "height": 543
    },
    "id": "YfEg_YyXGW6t",
    "outputId": "d2f230eb-def9-4150-a234-73f6c45aea67"
   },
   "outputs": [
    {
     "data": {
      "text/plain": [
       "<Axes: >"
      ]
     },
     "execution_count": 7,
     "metadata": {},
     "output_type": "execute_result"
    },
    {
     "data": {
      "image/png": "[encoded data removed]",
      "text/plain": [
       "<Figure size 640x480 with 1 Axes>"
      ]
     },
     "metadata": {},
     "output_type": "display_data"
    }
   ],
   "source": [
    "#This is a heatmap of the missing values. \n",
    "#Every yellow dash represents a missing value.\n",
    "sns.heatmap(df.isnull(), yticklabels=False, cbar=False, cmap='viridis')"
   ]
  },
  {
   "cell_type": "code",
   "execution_count": 8,
   "metadata": {
    "id": "HLB60JmfGZwP"
   },
   "outputs": [],
   "source": [
    "#drop columns Evaporation, Sunshine, Cloud9am, Cloud3pm and also 'Date' and 'Location'\n",
    "#and also null rows in columns RainToday and RainTomorrow\n",
    "df.drop(['Evaporation','Sunshine', 'Cloud9am', 'Cloud3pm', 'Date', 'Location'], axis =1, inplace=True)\n",
    "df.dropna(subset=['RainToday', 'RainTomorrow'], inplace = True)"
   ]
  },
  {
   "cell_type": "code",
   "execution_count": 9,
   "metadata": {
    "colab": {
     "base_uri": "https://localhost:8080/"
    },
    "id": "1V1NelC1Ggn3",
    "outputId": "ac7c68ab-f235-497e-e16b-7ac8108097ac"
   },
   "outputs": [
    {
     "data": {
      "text/plain": [
       "MinTemp            468\n",
       "MaxTemp            307\n",
       "Rainfall             0\n",
       "WindGustDir       9163\n",
       "WindGustSpeed     9105\n",
       "WindDir9am        9660\n",
       "WindDir3pm        3670\n",
       "WindSpeed9am      1055\n",
       "WindSpeed3pm      2531\n",
       "Humidity9am       1517\n",
       "Humidity3pm       3501\n",
       "Pressure9am      13743\n",
       "Pressure3pm      13769\n",
       "Temp9am            656\n",
       "Temp3pm           2624\n",
       "RainToday            0\n",
       "RainTomorrow         0\n",
       "dtype: int64"
      ]
     },
     "execution_count": 9,
     "metadata": {},
     "output_type": "execute_result"
    }
   ],
   "source": [
    "#There are too many missing values in Evaporation, Sunshine Cloud9am, Cloud3pm, so we will drop these columns\n",
    "#and impute the other columns for missing values\n",
    "df.isnull().sum(axis = 0)"
   ]
  },
  {
   "cell_type": "code",
   "execution_count": 10,
   "metadata": {
    "colab": {
     "base_uri": "https://localhost:8080/",
     "height": 543
    },
    "id": "kldpDyv5GjSF",
    "outputId": "94aaa729-ccc2-4491-ce9c-0c97cf9d95d5"
   },
   "outputs": [
    {
     "data": {
      "text/plain": [
       "<Axes: >"
      ]
     },
     "execution_count": 10,
     "metadata": {},
     "output_type": "execute_result"
    },
    {
     "data": {
      "image/png": "[encoded data removed]",
      "text/plain": [
       "<Figure size 640x480 with 1 Axes>"
      ]
     },
     "metadata": {},
     "output_type": "display_data"
    }
   ],
   "source": [
    "sns.heatmap(df.isnull(), yticklabels=False, cbar=False, cmap='viridis')"
   ]
  },
  {
   "cell_type": "code",
   "execution_count": 11,
   "metadata": {
    "colab": {
     "base_uri": "https://localhost:8080/"
    },
    "id": "sc0xofmjGmpM",
    "outputId": "c2d1c931-ae20-4b2d-b905-4b8dd32384e7"
   },
   "outputs": [
    {
     "name": "stdout",
     "output_type": "stream",
     "text": [
      "<class 'pandas.core.frame.DataFrame'>\n",
      "Int64Index: 140787 entries, 0 to 145458\n",
      "Data columns (total 17 columns):\n",
      " #   Column         Non-Null Count   Dtype  \n",
      "---  ------         --------------   -----  \n",
      " 0   MinTemp        140319 non-null  float64\n",
      " 1   MaxTemp        140480 non-null  float64\n",
      " 2   Rainfall       140787 non-null  float64\n",
      " 3   WindGustDir    131624 non-null  object \n",
      " 4   WindGustSpeed  131682 non-null  float64\n",
      " 5   WindDir9am     131127 non-null  object \n",
      " 6   WindDir3pm     137117 non-null  object \n",
      " 7   WindSpeed9am   139732 non-null  float64\n",
      " 8   WindSpeed3pm   138256 non-null  float64\n",
      " 9   Humidity9am    139270 non-null  float64\n",
      " 10  Humidity3pm    137286 non-null  float64\n",
      " 11  Pressure9am    127044 non-null  float64\n",
      " 12  Pressure3pm    127018 non-null  float64\n",
      " 13  Temp9am        140131 non-null  float64\n",
      " 14  Temp3pm        138163 non-null  float64\n",
      " 15  RainToday      140787 non-null  object \n",
      " 16  RainTomorrow   140787 non-null  object \n",
      "dtypes: float64(12), object(5)\n",
      "memory usage: 19.3+ MB\n"
     ]
    }
   ],
   "source": [
    "df.info()\n"
   ]
  },
  {
   "cell_type": "code",
   "execution_count": 12,
   "metadata": {
    "colab": {
     "base_uri": "https://localhost:8080/"
    },
    "id": "YqxN77L9Go7-",
    "outputId": "741986df-c325-42aa-8936-d7c69e228807"
   },
   "outputs": [
    {
     "data": {
      "text/plain": [
       "MinTemp            468\n",
       "MaxTemp            307\n",
       "Rainfall             0\n",
       "WindGustDir       9163\n",
       "WindGustSpeed     9105\n",
       "WindDir9am        9660\n",
       "WindDir3pm        3670\n",
       "WindSpeed9am      1055\n",
       "WindSpeed3pm      2531\n",
       "Humidity9am       1517\n",
       "Humidity3pm       3501\n",
       "Pressure9am      13743\n",
       "Pressure3pm      13769\n",
       "Temp9am            656\n",
       "Temp3pm           2624\n",
       "RainToday            0\n",
       "RainTomorrow         0\n",
       "dtype: int64"
      ]
     },
     "execution_count": 12,
     "metadata": {},
     "output_type": "execute_result"
    }
   ],
   "source": [
    "#Now we will start imputing all our columns, first we will check the column\n",
    "#types, whether they are categorical or numerical features\n",
    "df.isnull().sum(axis = 0)"
   ]
  },
  {
   "cell_type": "code",
   "execution_count": 13,
   "metadata": {
    "id": "urmFJtfaGrmo"
   },
   "outputs": [],
   "source": [
    "#Now we will start imputing all our columns, first we will check the column\n",
    "#types, whether they are categorical or numerical features\n",
    "numeric_cols = df.select_dtypes(include=np.number).columns.tolist()\n",
    "categorical_cols = df.select_dtypes('object').columns.tolist()"
   ]
  },
  {
   "cell_type": "code",
   "execution_count": 14,
   "metadata": {
    "colab": {
     "base_uri": "https://localhost:8080/"
    },
    "id": "ID9IyD2tGxZS",
    "outputId": "4fbf992b-d67b-465c-a5c1-2cee44b617d2"
   },
   "outputs": [
    {
     "data": {
      "text/plain": [
       "['MinTemp',\n",
       " 'MaxTemp',\n",
       " 'Rainfall',\n",
       " 'WindGustSpeed',\n",
       " 'WindSpeed9am',\n",
       " 'WindSpeed3pm',\n",
       " 'Humidity9am',\n",
       " 'Humidity3pm',\n",
       " 'Pressure9am',\n",
       " 'Pressure3pm',\n",
       " 'Temp9am',\n",
       " 'Temp3pm']"
      ]
     },
     "execution_count": 14,
     "metadata": {},
     "output_type": "execute_result"
    }
   ],
   "source": [
    "numeric_cols"
   ]
  },
  {
   "cell_type": "code",
   "execution_count": 15,
   "metadata": {
    "colab": {
     "base_uri": "https://localhost:8080/"
    },
    "id": "VFpaNocjGziK",
    "outputId": "99a6dce2-d13c-4301-d3ff-d37c85c0edd3"
   },
   "outputs": [
    {
     "data": {
      "text/plain": [
       "['WindGustDir', 'WindDir9am', 'WindDir3pm', 'RainToday', 'RainTomorrow']"
      ]
     },
     "execution_count": 15,
     "metadata": {},
     "output_type": "execute_result"
    }
   ],
   "source": [
    "categorical_cols"
   ]
  },
  {
   "cell_type": "code",
   "execution_count": 16,
   "metadata": {
    "id": "vf8NJU5SG1Zc"
   },
   "outputs": [],
   "source": [
    "#This is the easiest way to impute the missing numeric values.\n",
    "#It imputes this missing values using the mean of the column values\n",
    "from sklearn.impute import SimpleImputer\n",
    "\n",
    "imputer = SimpleImputer(strategy = 'mean')"
   ]
  },
  {
   "cell_type": "code",
   "execution_count": 17,
   "metadata": {
    "colab": {
     "base_uri": "https://localhost:8080/",
     "height": 74
    },
    "id": "B6udcr-BG3hG",
    "outputId": "c870c7e4-1ecb-4a13-fa09-5d2db79d46f8"
   },
   "outputs": [
    {
     "data": {
      "text/html": [
       "<style>#sk-container-id-1 {color: black;background-color: white;}#sk-container-id-1 pre{padding: 0;}#sk-container-id-1 div.sk-toggleable {background-color: white;}#sk-container-id-1 label.sk-toggleable__label {cursor: pointer;display: block;width: 100%;margin-bottom: 0;padding: 0.3em;box-sizing: border-box;text-align: center;}#sk-container-id-1 label.sk-toggleable__label-arrow:before {content: \"▸\";float: left;margin-right: 0.25em;color: #696969;}#sk-container-id-1 label.sk-toggleable__label-arrow:hover:before {color: black;}#sk-container-id-1 div.sk-estimator:hover label.sk-toggleable__label-arrow:before {color: black;}#sk-container-id-1 div.sk-toggleable__content {max-height: 0;max-width: 0;overflow: hidden;text-align: left;background-color: #f0f8ff;}#sk-container-id-1 div.sk-toggleable__content pre {margin: 0.2em;color: black;border-radius: 0.25em;background-color: #f0f8ff;}#sk-container-id-1 input.sk-toggleable__control:checked~div.sk-toggleable__content {max-height: 200px;max-width: 100%;overflow: auto;}#sk-container-id-1 input.sk-toggleable__control:checked~label.sk-toggleable__label-arrow:before {content: \"▾\";}#sk-container-id-1 div.sk-estimator input.sk-toggleable__control:checked~label.sk-toggleable__label {background-color: #d4ebff;}#sk-container-id-1 div.sk-label input.sk-toggleable__control:checked~label.sk-toggleable__label {background-color: #d4ebff;}#sk-container-id-1 input.sk-hidden--visually {border: 0;clip: rect(1px 1px 1px 1px);clip: rect(1px, 1px, 1px, 1px);height: 1px;margin: -1px;overflow: hidden;padding: 0;position: absolute;width: 1px;}#sk-container-id-1 div.sk-estimator {font-family: monospace;background-color: #f0f8ff;border: 1px dotted black;border-radius: 0.25em;box-sizing: border-box;margin-bottom: 0.5em;}#sk-container-id-1 div.sk-estimator:hover {background-color: #d4ebff;}#sk-container-id-1 div.sk-parallel-item::after {content: \"\";width: 100%;border-bottom: 1px solid gray;flex-grow: 1;}#sk-container-id-1 div.sk-label:hover label.sk-toggleable__label {background-color: #d4ebff;}#sk-container-id-1 div.sk-serial::before {content: \"\";position: absolute;border-left: 1px solid gray;box-sizing: border-box;top: 0;bottom: 0;left: 50%;z-index: 0;}#sk-container-id-1 div.sk-serial {display: flex;flex-direction: column;align-items: center;background-color: white;padding-right: 0.2em;padding-left: 0.2em;position: relative;}#sk-container-id-1 div.sk-item {position: relative;z-index: 1;}#sk-container-id-1 div.sk-parallel {display: flex;align-items: stretch;justify-content: center;background-color: white;position: relative;}#sk-container-id-1 div.sk-item::before, #sk-container-id-1 div.sk-parallel-item::before {content: \"\";position: absolute;border-left: 1px solid gray;box-sizing: border-box;top: 0;bottom: 0;left: 50%;z-index: -1;}#sk-container-id-1 div.sk-parallel-item {display: flex;flex-direction: column;z-index: 1;position: relative;background-color: white;}#sk-container-id-1 div.sk-parallel-item:first-child::after {align-self: flex-end;width: 50%;}#sk-container-id-1 div.sk-parallel-item:last-child::after {align-self: flex-start;width: 50%;}#sk-container-id-1 div.sk-parallel-item:only-child::after {width: 0;}#sk-container-id-1 div.sk-dashed-wrapped {border: 1px dashed gray;margin: 0 0.4em 0.5em 0.4em;box-sizing: border-box;padding-bottom: 0.4em;background-color: white;}#sk-container-id-1 div.sk-label label {font-family: monospace;font-weight: bold;display: inline-block;line-height: 1.2em;}#sk-container-id-1 div.sk-label-container {text-align: center;}#sk-container-id-1 div.sk-container {/* jupyter's `normalize.less` sets `[hidden] { display: none; }` but bootstrap.min.css set `[hidden] { display: none !important; }` so we also need the `!important` here to be able to override the default hidden behavior on the sphinx rendered scikit-learn.org. See: https://github.com/scikit-learn/scikit-learn/issues/21755 */display: inline-block !important;position: relative;}#sk-container-id-1 div.sk-text-repr-fallback {display: none;}</style><div id=\"sk-container-id-1\" class=\"sk-top-container\"><div class=\"sk-text-repr-fallback\"><pre>SimpleImputer()</pre><b>In a Jupyter environment, please rerun this cell to show the HTML representation or trust the notebook. <br />On GitHub, the HTML representation is unable to render, please try loading this page with nbviewer.org.</b></div><div class=\"sk-container\" hidden><div class=\"sk-item\"><div class=\"sk-estimator sk-toggleable\"><input class=\"sk-toggleable__control sk-hidden--visually\" id=\"sk-estimator-id-1\" type=\"checkbox\" checked><label for=\"sk-estimator-id-1\" class=\"sk-toggleable__label sk-toggleable__label-arrow\">SimpleImputer</label><div class=\"sk-toggleable__content\"><pre>SimpleImputer()</pre></div></div></div></div></div>"
      ],
      "text/plain": [
       "SimpleImputer()"
      ]
     },
     "execution_count": 17,
     "metadata": {},
     "output_type": "execute_result"
    }
   ],
   "source": [
    "imputer.fit(df[numeric_cols]) "
   ]
  },
  {
   "cell_type": "code",
   "execution_count": 18,
   "metadata": {
    "id": "lj5IkMrXG5fb"
   },
   "outputs": [],
   "source": [
    "df[numeric_cols]= imputer.transform(df[numeric_cols])"
   ]
  },
  {
   "cell_type": "code",
   "execution_count": 19,
   "metadata": {
    "id": "C0S5f1FOG8NB"
   },
   "outputs": [],
   "source": [
    "imputercat = SimpleImputer(strategy = 'most_frequent')"
   ]
  },
  {
   "cell_type": "code",
   "execution_count": 20,
   "metadata": {
    "colab": {
     "base_uri": "https://localhost:8080/",
     "height": 74
    },
    "id": "vS46zilsHNmX",
    "outputId": "066bd227-6904-45c8-d4bd-301a3678f603"
   },
   "outputs": [
    {
     "data": {
      "text/html": [
       "<style>#sk-container-id-2 {color: black;background-color: white;}#sk-container-id-2 pre{padding: 0;}#sk-container-id-2 div.sk-toggleable {background-color: white;}#sk-container-id-2 label.sk-toggleable__label {cursor: pointer;display: block;width: 100%;margin-bottom: 0;padding: 0.3em;box-sizing: border-box;text-align: center;}#sk-container-id-2 label.sk-toggleable__label-arrow:before {content: \"▸\";float: left;margin-right: 0.25em;color: #696969;}#sk-container-id-2 label.sk-toggleable__label-arrow:hover:before {color: black;}#sk-container-id-2 div.sk-estimator:hover label.sk-toggleable__label-arrow:before {color: black;}#sk-container-id-2 div.sk-toggleable__content {max-height: 0;max-width: 0;overflow: hidden;text-align: left;background-color: #f0f8ff;}#sk-container-id-2 div.sk-toggleable__content pre {margin: 0.2em;color: black;border-radius: 0.25em;background-color: #f0f8ff;}#sk-container-id-2 input.sk-toggleable__control:checked~div.sk-toggleable__content {max-height: 200px;max-width: 100%;overflow: auto;}#sk-container-id-2 input.sk-toggleable__control:checked~label.sk-toggleable__label-arrow:before {content: \"▾\";}#sk-container-id-2 div.sk-estimator input.sk-toggleable__control:checked~label.sk-toggleable__label {background-color: #d4ebff;}#sk-container-id-2 div.sk-label input.sk-toggleable__control:checked~label.sk-toggleable__label {background-color: #d4ebff;}#sk-container-id-2 input.sk-hidden--visually {border: 0;clip: rect(1px 1px 1px 1px);clip: rect(1px, 1px, 1px, 1px);height: 1px;margin: -1px;overflow: hidden;padding: 0;position: absolute;width: 1px;}#sk-container-id-2 div.sk-estimator {font-family: monospace;background-color: #f0f8ff;border: 1px dotted black;border-radius: 0.25em;box-sizing: border-box;margin-bottom: 0.5em;}#sk-container-id-2 div.sk-estimator:hover {background-color: #d4ebff;}#sk-container-id-2 div.sk-parallel-item::after {content: \"\";width: 100%;border-bottom: 1px solid gray;flex-grow: 1;}#sk-container-id-2 div.sk-label:hover label.sk-toggleable__label {background-color: #d4ebff;}#sk-container-id-2 div.sk-serial::before {content: \"\";position: absolute;border-left: 1px solid gray;box-sizing: border-box;top: 0;bottom: 0;left: 50%;z-index: 0;}#sk-container-id-2 div.sk-serial {display: flex;flex-direction: column;align-items: center;background-color: white;padding-right: 0.2em;padding-left: 0.2em;position: relative;}#sk-container-id-2 div.sk-item {position: relative;z-index: 1;}#sk-container-id-2 div.sk-parallel {display: flex;align-items: stretch;justify-content: center;background-color: white;position: relative;}#sk-container-id-2 div.sk-item::before, #sk-container-id-2 div.sk-parallel-item::before {content: \"\";position: absolute;border-left: 1px solid gray;box-sizing: border-box;top: 0;bottom: 0;left: 50%;z-index: -1;}#sk-container-id-2 div.sk-parallel-item {display: flex;flex-direction: column;z-index: 1;position: relative;background-color: white;}#sk-container-id-2 div.sk-parallel-item:first-child::after {align-self: flex-end;width: 50%;}#sk-container-id-2 div.sk-parallel-item:last-child::after {align-self: flex-start;width: 50%;}#sk-container-id-2 div.sk-parallel-item:only-child::after {width: 0;}#sk-container-id-2 div.sk-dashed-wrapped {border: 1px dashed gray;margin: 0 0.4em 0.5em 0.4em;box-sizing: border-box;padding-bottom: 0.4em;background-color: white;}#sk-container-id-2 div.sk-label label {font-family: monospace;font-weight: bold;display: inline-block;line-height: 1.2em;}#sk-container-id-2 div.sk-label-container {text-align: center;}#sk-container-id-2 div.sk-container {/* jupyter's `normalize.less` sets `[hidden] { display: none; }` but bootstrap.min.css set `[hidden] { display: none !important; }` so we also need the `!important` here to be able to override the default hidden behavior on the sphinx rendered scikit-learn.org. See: https://github.com/scikit-learn/scikit-learn/issues/21755 */display: inline-block !important;position: relative;}#sk-container-id-2 div.sk-text-repr-fallback {display: none;}</style><div id=\"sk-container-id-2\" class=\"sk-top-container\"><div class=\"sk-text-repr-fallback\"><pre>SimpleImputer(strategy=&#x27;most_frequent&#x27;)</pre><b>In a Jupyter environment, please rerun this cell to show the HTML representation or trust the notebook. <br />On GitHub, the HTML representation is unable to render, please try loading this page with nbviewer.org.</b></div><div class=\"sk-container\" hidden><div class=\"sk-item\"><div class=\"sk-estimator sk-toggleable\"><input class=\"sk-toggleable__control sk-hidden--visually\" id=\"sk-estimator-id-2\" type=\"checkbox\" checked><label for=\"sk-estimator-id-2\" class=\"sk-toggleable__label sk-toggleable__label-arrow\">SimpleImputer</label><div class=\"sk-toggleable__content\"><pre>SimpleImputer(strategy=&#x27;most_frequent&#x27;)</pre></div></div></div></div></div>"
      ],
      "text/plain": [
       "SimpleImputer(strategy='most_frequent')"
      ]
     },
     "execution_count": 20,
     "metadata": {},
     "output_type": "execute_result"
    }
   ],
   "source": [
    "imputercat.fit(df[categorical_cols])"
   ]
  },
  {
   "cell_type": "code",
   "execution_count": 21,
   "metadata": {
    "id": "PQGyFvcVHPll"
   },
   "outputs": [],
   "source": [
    "df[categorical_cols] = imputercat.transform(df[categorical_cols])"
   ]
  },
  {
   "cell_type": "code",
   "execution_count": 22,
   "metadata": {
    "colab": {
     "base_uri": "https://localhost:8080/"
    },
    "id": "PhIFluLCHRvw",
    "outputId": "62ff8472-1171-49fd-c210-e812a76923da"
   },
   "outputs": [
    {
     "data": {
      "text/plain": [
       "MinTemp          0\n",
       "MaxTemp          0\n",
       "Rainfall         0\n",
       "WindGustDir      0\n",
       "WindGustSpeed    0\n",
       "WindDir9am       0\n",
       "WindDir3pm       0\n",
       "WindSpeed9am     0\n",
       "WindSpeed3pm     0\n",
       "Humidity9am      0\n",
       "Humidity3pm      0\n",
       "Pressure9am      0\n",
       "Pressure3pm      0\n",
       "Temp9am          0\n",
       "Temp3pm          0\n",
       "RainToday        0\n",
       "RainTomorrow     0\n",
       "dtype: int64"
      ]
     },
     "execution_count": 22,
     "metadata": {},
     "output_type": "execute_result"
    }
   ],
   "source": [
    "df.isnull().sum(axis = 0)"
   ]
  },
  {
   "cell_type": "code",
   "execution_count": 23,
   "metadata": {
    "colab": {
     "base_uri": "https://localhost:8080/",
     "height": 543
    },
    "id": "g4VfGHWJHUTa",
    "outputId": "a3a0804d-810f-48df-a324-52a7482be1e7"
   },
   "outputs": [
    {
     "data": {
      "text/plain": [
       "<Axes: >"
      ]
     },
     "execution_count": 23,
     "metadata": {},
     "output_type": "execute_result"
    },
    {
     "data": {
      "image/png": "[encoded data removed]",
      "text/plain": [
       "<Figure size 640x480 with 1 Axes>"
      ]
     },
     "metadata": {},
     "output_type": "display_data"
    }
   ],
   "source": [
    "sns.heatmap(df.isnull(), yticklabels=False, cbar=False, cmap='viridis')"
   ]
  },
  {
   "cell_type": "code",
   "execution_count": 24,
   "metadata": {
    "id": "MdxALDp-HaM5"
   },
   "outputs": [],
   "source": [
    "#Data Cleaned till this stage\n",
    "#Now we need to encode categorical values for the model"
   ]
  },
  {
   "cell_type": "code",
   "execution_count": 25,
   "metadata": {
    "colab": {
     "base_uri": "https://localhost:8080/",
     "height": 270
    },
    "id": "uTGhZnqRHegF",
    "outputId": "de8e1ec2-5c09-4be1-916a-6ee461012d37"
   },
   "outputs": [
    {
     "data": {
      "text/html": [
       "<div>\n",
       "<style scoped>\n",
       "    .dataframe tbody tr th:only-of-type {\n",
       "        vertical-align: middle;\n",
       "    }\n",
       "\n",
       "    .dataframe tbody tr th {\n",
       "        vertical-align: top;\n",
       "    }\n",
       "\n",
       "    .dataframe thead th {\n",
       "        text-align: right;\n",
       "    }\n",
       "</style>\n",
       "<table border=\"1\" class=\"dataframe\">\n",
       "  <thead>\n",
       "    <tr style=\"text-align: right;\">\n",
       "      <th></th>\n",
       "      <th>MinTemp</th>\n",
       "      <th>MaxTemp</th>\n",
       "      <th>Rainfall</th>\n",
       "      <th>WindGustDir</th>\n",
       "      <th>WindGustSpeed</th>\n",
       "      <th>WindDir9am</th>\n",
       "      <th>WindDir3pm</th>\n",
       "      <th>WindSpeed9am</th>\n",
       "      <th>WindSpeed3pm</th>\n",
       "      <th>Humidity9am</th>\n",
       "      <th>Humidity3pm</th>\n",
       "      <th>Pressure9am</th>\n",
       "      <th>Pressure3pm</th>\n",
       "      <th>Temp9am</th>\n",
       "      <th>Temp3pm</th>\n",
       "      <th>RainToday</th>\n",
       "      <th>RainTomorrow</th>\n",
       "    </tr>\n",
       "  </thead>\n",
       "  <tbody>\n",
       "    <tr>\n",
       "      <th>0</th>\n",
       "      <td>13.4</td>\n",
       "      <td>22.9</td>\n",
       "      <td>0.6</td>\n",
       "      <td>W</td>\n",
       "      <td>44.0</td>\n",
       "      <td>W</td>\n",
       "      <td>WNW</td>\n",
       "      <td>20.0</td>\n",
       "      <td>24.0</td>\n",
       "      <td>71.0</td>\n",
       "      <td>22.0</td>\n",
       "      <td>1007.7</td>\n",
       "      <td>1007.1</td>\n",
       "      <td>16.9</td>\n",
       "      <td>21.8</td>\n",
       "      <td>No</td>\n",
       "      <td>No</td>\n",
       "    </tr>\n",
       "    <tr>\n",
       "      <th>1</th>\n",
       "      <td>7.4</td>\n",
       "      <td>25.1</td>\n",
       "      <td>0.0</td>\n",
       "      <td>WNW</td>\n",
       "      <td>44.0</td>\n",
       "      <td>NNW</td>\n",
       "      <td>WSW</td>\n",
       "      <td>4.0</td>\n",
       "      <td>22.0</td>\n",
       "      <td>44.0</td>\n",
       "      <td>25.0</td>\n",
       "      <td>1010.6</td>\n",
       "      <td>1007.8</td>\n",
       "      <td>17.2</td>\n",
       "      <td>24.3</td>\n",
       "      <td>No</td>\n",
       "      <td>No</td>\n",
       "    </tr>\n",
       "    <tr>\n",
       "      <th>2</th>\n",
       "      <td>12.9</td>\n",
       "      <td>25.7</td>\n",
       "      <td>0.0</td>\n",
       "      <td>WSW</td>\n",
       "      <td>46.0</td>\n",
       "      <td>W</td>\n",
       "      <td>WSW</td>\n",
       "      <td>19.0</td>\n",
       "      <td>26.0</td>\n",
       "      <td>38.0</td>\n",
       "      <td>30.0</td>\n",
       "      <td>1007.6</td>\n",
       "      <td>1008.7</td>\n",
       "      <td>21.0</td>\n",
       "      <td>23.2</td>\n",
       "      <td>No</td>\n",
       "      <td>No</td>\n",
       "    </tr>\n",
       "    <tr>\n",
       "      <th>3</th>\n",
       "      <td>9.2</td>\n",
       "      <td>28.0</td>\n",
       "      <td>0.0</td>\n",
       "      <td>NE</td>\n",
       "      <td>24.0</td>\n",
       "      <td>SE</td>\n",
       "      <td>E</td>\n",
       "      <td>11.0</td>\n",
       "      <td>9.0</td>\n",
       "      <td>45.0</td>\n",
       "      <td>16.0</td>\n",
       "      <td>1017.6</td>\n",
       "      <td>1012.8</td>\n",
       "      <td>18.1</td>\n",
       "      <td>26.5</td>\n",
       "      <td>No</td>\n",
       "      <td>No</td>\n",
       "    </tr>\n",
       "    <tr>\n",
       "      <th>4</th>\n",
       "      <td>17.5</td>\n",
       "      <td>32.3</td>\n",
       "      <td>1.0</td>\n",
       "      <td>W</td>\n",
       "      <td>41.0</td>\n",
       "      <td>ENE</td>\n",
       "      <td>NW</td>\n",
       "      <td>7.0</td>\n",
       "      <td>20.0</td>\n",
       "      <td>82.0</td>\n",
       "      <td>33.0</td>\n",
       "      <td>1010.8</td>\n",
       "      <td>1006.0</td>\n",
       "      <td>17.8</td>\n",
       "      <td>29.7</td>\n",
       "      <td>No</td>\n",
       "      <td>No</td>\n",
       "    </tr>\n",
       "  </tbody>\n",
       "</table>\n",
       "</div>"
      ],
      "text/plain": [
       "   MinTemp  MaxTemp  Rainfall WindGustDir  WindGustSpeed WindDir9am  \\\n",
       "0     13.4     22.9       0.6           W           44.0          W   \n",
       "1      7.4     25.1       0.0         WNW           44.0        NNW   \n",
       "2     12.9     25.7       0.0         WSW           46.0          W   \n",
       "3      9.2     28.0       0.0          NE           24.0         SE   \n",
       "4     17.5     32.3       1.0           W           41.0        ENE   \n",
       "\n",
       "  WindDir3pm  WindSpeed9am  WindSpeed3pm  Humidity9am  Humidity3pm  \\\n",
       "0        WNW          20.0          24.0         71.0         22.0   \n",
       "1        WSW           4.0          22.0         44.0         25.0   \n",
       "2        WSW          19.0          26.0         38.0         30.0   \n",
       "3          E          11.0           9.0         45.0         16.0   \n",
       "4         NW           7.0          20.0         82.0         33.0   \n",
       "\n",
       "   Pressure9am  Pressure3pm  Temp9am  Temp3pm RainToday RainTomorrow  \n",
       "0       1007.7       1007.1     16.9     21.8        No           No  \n",
       "1       1010.6       1007.8     17.2     24.3        No           No  \n",
       "2       1007.6       1008.7     21.0     23.2        No           No  \n",
       "3       1017.6       1012.8     18.1     26.5        No           No  \n",
       "4       1010.8       1006.0     17.8     29.7        No           No  "
      ]
     },
     "execution_count": 25,
     "metadata": {},
     "output_type": "execute_result"
    }
   ],
   "source": [
    "df.head()\n"
   ]
  },
  {
   "cell_type": "code",
   "execution_count": 26,
   "metadata": {
    "id": "1HMGlk6PHgEx"
   },
   "outputs": [],
   "source": [
    "#encoding categorical variables to numeric ones\n",
    "from sklearn.preprocessing import LabelEncoder\n",
    "for c in df.columns:\n",
    "    if df[c].dtype=='object':    #Since we are encoding object datatype to integer/float\n",
    "        lbl = LabelEncoder()\n",
    "        lbl.fit(list(df[c].values))\n",
    "        df[c] = lbl.transform(df[c].values)"
   ]
  },
  {
   "cell_type": "code",
   "execution_count": 27,
   "metadata": {
    "colab": {
     "base_uri": "https://localhost:8080/",
     "height": 270
    },
    "id": "qCUFfuF9HjNZ",
    "outputId": "fc850be2-f256-40a0-eed3-7150d0966e95"
   },
   "outputs": [
    {
     "data": {
      "text/html": [
       "<div>\n",
       "<style scoped>\n",
       "    .dataframe tbody tr th:only-of-type {\n",
       "        vertical-align: middle;\n",
       "    }\n",
       "\n",
       "    .dataframe tbody tr th {\n",
       "        vertical-align: top;\n",
       "    }\n",
       "\n",
       "    .dataframe thead th {\n",
       "        text-align: right;\n",
       "    }\n",
       "</style>\n",
       "<table border=\"1\" class=\"dataframe\">\n",
       "  <thead>\n",
       "    <tr style=\"text-align: right;\">\n",
       "      <th></th>\n",
       "      <th>MinTemp</th>\n",
       "      <th>MaxTemp</th>\n",
       "      <th>Rainfall</th>\n",
       "      <th>WindGustDir</th>\n",
       "      <th>WindGustSpeed</th>\n",
       "      <th>WindDir9am</th>\n",
       "      <th>WindDir3pm</th>\n",
       "      <th>WindSpeed9am</th>\n",
       "      <th>WindSpeed3pm</th>\n",
       "      <th>Humidity9am</th>\n",
       "      <th>Humidity3pm</th>\n",
       "      <th>Pressure9am</th>\n",
       "      <th>Pressure3pm</th>\n",
       "      <th>Temp9am</th>\n",
       "      <th>Temp3pm</th>\n",
       "      <th>RainToday</th>\n",
       "      <th>RainTomorrow</th>\n",
       "    </tr>\n",
       "  </thead>\n",
       "  <tbody>\n",
       "    <tr>\n",
       "      <th>0</th>\n",
       "      <td>13.4</td>\n",
       "      <td>22.9</td>\n",
       "      <td>0.6</td>\n",
       "      <td>13</td>\n",
       "      <td>44.0</td>\n",
       "      <td>13</td>\n",
       "      <td>14</td>\n",
       "      <td>20.0</td>\n",
       "      <td>24.0</td>\n",
       "      <td>71.0</td>\n",
       "      <td>22.0</td>\n",
       "      <td>1007.7</td>\n",
       "      <td>1007.1</td>\n",
       "      <td>16.9</td>\n",
       "      <td>21.8</td>\n",
       "      <td>0</td>\n",
       "      <td>0</td>\n",
       "    </tr>\n",
       "    <tr>\n",
       "      <th>1</th>\n",
       "      <td>7.4</td>\n",
       "      <td>25.1</td>\n",
       "      <td>0.0</td>\n",
       "      <td>14</td>\n",
       "      <td>44.0</td>\n",
       "      <td>6</td>\n",
       "      <td>15</td>\n",
       "      <td>4.0</td>\n",
       "      <td>22.0</td>\n",
       "      <td>44.0</td>\n",
       "      <td>25.0</td>\n",
       "      <td>1010.6</td>\n",
       "      <td>1007.8</td>\n",
       "      <td>17.2</td>\n",
       "      <td>24.3</td>\n",
       "      <td>0</td>\n",
       "      <td>0</td>\n",
       "    </tr>\n",
       "    <tr>\n",
       "      <th>2</th>\n",
       "      <td>12.9</td>\n",
       "      <td>25.7</td>\n",
       "      <td>0.0</td>\n",
       "      <td>15</td>\n",
       "      <td>46.0</td>\n",
       "      <td>13</td>\n",
       "      <td>15</td>\n",
       "      <td>19.0</td>\n",
       "      <td>26.0</td>\n",
       "      <td>38.0</td>\n",
       "      <td>30.0</td>\n",
       "      <td>1007.6</td>\n",
       "      <td>1008.7</td>\n",
       "      <td>21.0</td>\n",
       "      <td>23.2</td>\n",
       "      <td>0</td>\n",
       "      <td>0</td>\n",
       "    </tr>\n",
       "    <tr>\n",
       "      <th>3</th>\n",
       "      <td>9.2</td>\n",
       "      <td>28.0</td>\n",
       "      <td>0.0</td>\n",
       "      <td>4</td>\n",
       "      <td>24.0</td>\n",
       "      <td>9</td>\n",
       "      <td>0</td>\n",
       "      <td>11.0</td>\n",
       "      <td>9.0</td>\n",
       "      <td>45.0</td>\n",
       "      <td>16.0</td>\n",
       "      <td>1017.6</td>\n",
       "      <td>1012.8</td>\n",
       "      <td>18.1</td>\n",
       "      <td>26.5</td>\n",
       "      <td>0</td>\n",
       "      <td>0</td>\n",
       "    </tr>\n",
       "    <tr>\n",
       "      <th>4</th>\n",
       "      <td>17.5</td>\n",
       "      <td>32.3</td>\n",
       "      <td>1.0</td>\n",
       "      <td>13</td>\n",
       "      <td>41.0</td>\n",
       "      <td>1</td>\n",
       "      <td>7</td>\n",
       "      <td>7.0</td>\n",
       "      <td>20.0</td>\n",
       "      <td>82.0</td>\n",
       "      <td>33.0</td>\n",
       "      <td>1010.8</td>\n",
       "      <td>1006.0</td>\n",
       "      <td>17.8</td>\n",
       "      <td>29.7</td>\n",
       "      <td>0</td>\n",
       "      <td>0</td>\n",
       "    </tr>\n",
       "  </tbody>\n",
       "</table>\n",
       "</div>"
      ],
      "text/plain": [
       "   MinTemp  MaxTemp  Rainfall  WindGustDir  WindGustSpeed  WindDir9am  \\\n",
       "0     13.4     22.9       0.6           13           44.0          13   \n",
       "1      7.4     25.1       0.0           14           44.0           6   \n",
       "2     12.9     25.7       0.0           15           46.0          13   \n",
       "3      9.2     28.0       0.0            4           24.0           9   \n",
       "4     17.5     32.3       1.0           13           41.0           1   \n",
       "\n",
       "   WindDir3pm  WindSpeed9am  WindSpeed3pm  Humidity9am  Humidity3pm  \\\n",
       "0          14          20.0          24.0         71.0         22.0   \n",
       "1          15           4.0          22.0         44.0         25.0   \n",
       "2          15          19.0          26.0         38.0         30.0   \n",
       "3           0          11.0           9.0         45.0         16.0   \n",
       "4           7           7.0          20.0         82.0         33.0   \n",
       "\n",
       "   Pressure9am  Pressure3pm  Temp9am  Temp3pm  RainToday  RainTomorrow  \n",
       "0       1007.7       1007.1     16.9     21.8          0             0  \n",
       "1       1010.6       1007.8     17.2     24.3          0             0  \n",
       "2       1007.6       1008.7     21.0     23.2          0             0  \n",
       "3       1017.6       1012.8     18.1     26.5          0             0  \n",
       "4       1010.8       1006.0     17.8     29.7          0             0  "
      ]
     },
     "execution_count": 27,
     "metadata": {},
     "output_type": "execute_result"
    }
   ],
   "source": [
    "#now all categorical values are encoded to numerical values, which our model can understand.\n",
    "df.head()"
   ]
  },
  {
   "cell_type": "code",
   "execution_count": 28,
   "metadata": {
    "colab": {
     "base_uri": "https://localhost:8080/",
     "height": 364
    },
    "id": "XwtwGK9PHlmd",
    "outputId": "7fde4d63-2933-4719-de93-a782072bc4a9"
   },
   "outputs": [
    {
     "data": {
      "text/html": [
       "<div>\n",
       "<style scoped>\n",
       "    .dataframe tbody tr th:only-of-type {\n",
       "        vertical-align: middle;\n",
       "    }\n",
       "\n",
       "    .dataframe tbody tr th {\n",
       "        vertical-align: top;\n",
       "    }\n",
       "\n",
       "    .dataframe thead th {\n",
       "        text-align: right;\n",
       "    }\n",
       "</style>\n",
       "<table border=\"1\" class=\"dataframe\">\n",
       "  <thead>\n",
       "    <tr style=\"text-align: right;\">\n",
       "      <th></th>\n",
       "      <th>MinTemp</th>\n",
       "      <th>MaxTemp</th>\n",
       "      <th>Rainfall</th>\n",
       "      <th>WindGustDir</th>\n",
       "      <th>WindGustSpeed</th>\n",
       "      <th>WindDir9am</th>\n",
       "      <th>WindDir3pm</th>\n",
       "      <th>WindSpeed9am</th>\n",
       "      <th>WindSpeed3pm</th>\n",
       "      <th>Humidity9am</th>\n",
       "      <th>Humidity3pm</th>\n",
       "      <th>Pressure9am</th>\n",
       "      <th>Pressure3pm</th>\n",
       "      <th>Temp9am</th>\n",
       "      <th>Temp3pm</th>\n",
       "      <th>RainToday</th>\n",
       "      <th>RainTomorrow</th>\n",
       "    </tr>\n",
       "  </thead>\n",
       "  <tbody>\n",
       "    <tr>\n",
       "      <th>count</th>\n",
       "      <td>140787.000000</td>\n",
       "      <td>140787.000000</td>\n",
       "      <td>140787.000000</td>\n",
       "      <td>140787.00000</td>\n",
       "      <td>140787.000000</td>\n",
       "      <td>140787.000000</td>\n",
       "      <td>140787.000000</td>\n",
       "      <td>140787.000000</td>\n",
       "      <td>140787.000000</td>\n",
       "      <td>140787.000000</td>\n",
       "      <td>140787.000000</td>\n",
       "      <td>140787.000000</td>\n",
       "      <td>140787.000000</td>\n",
       "      <td>140787.000000</td>\n",
       "      <td>140787.000000</td>\n",
       "      <td>140787.000000</td>\n",
       "      <td>140787.000000</td>\n",
       "    </tr>\n",
       "    <tr>\n",
       "      <th>mean</th>\n",
       "      <td>12.184824</td>\n",
       "      <td>23.235120</td>\n",
       "      <td>2.349974</td>\n",
       "      <td>8.05362</td>\n",
       "      <td>39.970520</td>\n",
       "      <td>7.006172</td>\n",
       "      <td>7.785740</td>\n",
       "      <td>13.990496</td>\n",
       "      <td>18.631141</td>\n",
       "      <td>68.826833</td>\n",
       "      <td>51.449288</td>\n",
       "      <td>1017.654577</td>\n",
       "      <td>1015.257963</td>\n",
       "      <td>16.987066</td>\n",
       "      <td>21.693183</td>\n",
       "      <td>0.223423</td>\n",
       "      <td>0.221618</td>\n",
       "    </tr>\n",
       "    <tr>\n",
       "      <th>std</th>\n",
       "      <td>6.393226</td>\n",
       "      <td>7.106739</td>\n",
       "      <td>8.465173</td>\n",
       "      <td>4.69313</td>\n",
       "      <td>13.131794</td>\n",
       "      <td>4.515248</td>\n",
       "      <td>4.547275</td>\n",
       "      <td>8.852853</td>\n",
       "      <td>8.718653</td>\n",
       "      <td>18.960664</td>\n",
       "      <td>20.546968</td>\n",
       "      <td>6.749189</td>\n",
       "      <td>6.682526</td>\n",
       "      <td>6.480860</td>\n",
       "      <td>6.872826</td>\n",
       "      <td>0.416541</td>\n",
       "      <td>0.415337</td>\n",
       "    </tr>\n",
       "    <tr>\n",
       "      <th>min</th>\n",
       "      <td>-8.500000</td>\n",
       "      <td>-4.800000</td>\n",
       "      <td>0.000000</td>\n",
       "      <td>0.00000</td>\n",
       "      <td>6.000000</td>\n",
       "      <td>0.000000</td>\n",
       "      <td>0.000000</td>\n",
       "      <td>0.000000</td>\n",
       "      <td>0.000000</td>\n",
       "      <td>0.000000</td>\n",
       "      <td>0.000000</td>\n",
       "      <td>980.500000</td>\n",
       "      <td>977.100000</td>\n",
       "      <td>-7.200000</td>\n",
       "      <td>-5.400000</td>\n",
       "      <td>0.000000</td>\n",
       "      <td>0.000000</td>\n",
       "    </tr>\n",
       "    <tr>\n",
       "      <th>25%</th>\n",
       "      <td>7.600000</td>\n",
       "      <td>17.900000</td>\n",
       "      <td>0.000000</td>\n",
       "      <td>4.00000</td>\n",
       "      <td>31.000000</td>\n",
       "      <td>3.000000</td>\n",
       "      <td>4.000000</td>\n",
       "      <td>7.000000</td>\n",
       "      <td>13.000000</td>\n",
       "      <td>57.000000</td>\n",
       "      <td>37.000000</td>\n",
       "      <td>1013.500000</td>\n",
       "      <td>1011.000000</td>\n",
       "      <td>12.300000</td>\n",
       "      <td>16.700000</td>\n",
       "      <td>0.000000</td>\n",
       "      <td>0.000000</td>\n",
       "    </tr>\n",
       "    <tr>\n",
       "      <th>50%</th>\n",
       "      <td>12.000000</td>\n",
       "      <td>22.700000</td>\n",
       "      <td>0.000000</td>\n",
       "      <td>9.00000</td>\n",
       "      <td>39.000000</td>\n",
       "      <td>7.000000</td>\n",
       "      <td>8.000000</td>\n",
       "      <td>13.000000</td>\n",
       "      <td>18.631141</td>\n",
       "      <td>70.000000</td>\n",
       "      <td>51.449288</td>\n",
       "      <td>1017.654577</td>\n",
       "      <td>1015.257963</td>\n",
       "      <td>16.800000</td>\n",
       "      <td>21.300000</td>\n",
       "      <td>0.000000</td>\n",
       "      <td>0.000000</td>\n",
       "    </tr>\n",
       "    <tr>\n",
       "      <th>75%</th>\n",
       "      <td>16.800000</td>\n",
       "      <td>28.200000</td>\n",
       "      <td>0.800000</td>\n",
       "      <td>13.00000</td>\n",
       "      <td>46.000000</td>\n",
       "      <td>11.000000</td>\n",
       "      <td>12.000000</td>\n",
       "      <td>19.000000</td>\n",
       "      <td>24.000000</td>\n",
       "      <td>83.000000</td>\n",
       "      <td>65.000000</td>\n",
       "      <td>1021.800000</td>\n",
       "      <td>1019.400000</td>\n",
       "      <td>21.500000</td>\n",
       "      <td>26.300000</td>\n",
       "      <td>0.000000</td>\n",
       "      <td>0.000000</td>\n",
       "    </tr>\n",
       "    <tr>\n",
       "      <th>max</th>\n",
       "      <td>33.900000</td>\n",
       "      <td>48.100000</td>\n",
       "      <td>371.000000</td>\n",
       "      <td>15.00000</td>\n",
       "      <td>135.000000</td>\n",
       "      <td>15.000000</td>\n",
       "      <td>15.000000</td>\n",
       "      <td>130.000000</td>\n",
       "      <td>87.000000</td>\n",
       "      <td>100.000000</td>\n",
       "      <td>100.000000</td>\n",
       "      <td>1041.000000</td>\n",
       "      <td>1039.600000</td>\n",
       "      <td>40.200000</td>\n",
       "      <td>46.700000</td>\n",
       "      <td>1.000000</td>\n",
       "      <td>1.000000</td>\n",
       "    </tr>\n",
       "  </tbody>\n",
       "</table>\n",
       "</div>"
      ],
      "text/plain": [
       "             MinTemp        MaxTemp       Rainfall   WindGustDir  \\\n",
       "count  140787.000000  140787.000000  140787.000000  140787.00000   \n",
       "mean       12.184824      23.235120       2.349974       8.05362   \n",
       "std         6.393226       7.106739       8.465173       4.69313   \n",
       "min        -8.500000      -4.800000       0.000000       0.00000   \n",
       "25%         7.600000      17.900000       0.000000       4.00000   \n",
       "50%        12.000000      22.700000       0.000000       9.00000   \n",
       "75%        16.800000      28.200000       0.800000      13.00000   \n",
       "max        33.900000      48.100000     371.000000      15.00000   \n",
       "\n",
       "       WindGustSpeed     WindDir9am     WindDir3pm   WindSpeed9am  \\\n",
       "count  140787.000000  140787.000000  140787.000000  140787.000000   \n",
       "mean       39.970520       7.006172       7.785740      13.990496   \n",
       "std        13.131794       4.515248       4.547275       8.852853   \n",
       "min         6.000000       0.000000       0.000000       0.000000   \n",
       "25%        31.000000       3.000000       4.000000       7.000000   \n",
       "50%        39.000000       7.000000       8.000000      13.000000   \n",
       "75%        46.000000      11.000000      12.000000      19.000000   \n",
       "max       135.000000      15.000000      15.000000     130.000000   \n",
       "\n",
       "        WindSpeed3pm    Humidity9am    Humidity3pm    Pressure9am  \\\n",
       "count  140787.000000  140787.000000  140787.000000  140787.000000   \n",
       "mean       18.631141      68.826833      51.449288    1017.654577   \n",
       "std         8.718653      18.960664      20.546968       6.749189   \n",
       "min         0.000000       0.000000       0.000000     980.500000   \n",
       "25%        13.000000      57.000000      37.000000    1013.500000   \n",
       "50%        18.631141      70.000000      51.449288    1017.654577   \n",
       "75%        24.000000      83.000000      65.000000    1021.800000   \n",
       "max        87.000000     100.000000     100.000000    1041.000000   \n",
       "\n",
       "         Pressure3pm        Temp9am        Temp3pm      RainToday  \\\n",
       "count  140787.000000  140787.000000  140787.000000  140787.000000   \n",
       "mean     1015.257963      16.987066      21.693183       0.223423   \n",
       "std         6.682526       6.480860       6.872826       0.416541   \n",
       "min       977.100000      -7.200000      -5.400000       0.000000   \n",
       "25%      1011.000000      12.300000      16.700000       0.000000   \n",
       "50%      1015.257963      16.800000      21.300000       0.000000   \n",
       "75%      1019.400000      21.500000      26.300000       0.000000   \n",
       "max      1039.600000      40.200000      46.700000       1.000000   \n",
       "\n",
       "        RainTomorrow  \n",
       "count  140787.000000  \n",
       "mean        0.221618  \n",
       "std         0.415337  \n",
       "min         0.000000  \n",
       "25%         0.000000  \n",
       "50%         0.000000  \n",
       "75%         0.000000  \n",
       "max         1.000000  "
      ]
     },
     "execution_count": 28,
     "metadata": {},
     "output_type": "execute_result"
    }
   ],
   "source": [
    "#Just to make sure that all our values are either int or float.\n",
    "df.describe()"
   ]
  },
  {
   "cell_type": "code",
   "execution_count": 29,
   "metadata": {
    "id": "wiQrIaAfaUBr"
   },
   "outputs": [],
   "source": [
    "z_scores = (df - df.mean()) / df.std()"
   ]
  },
  {
   "cell_type": "code",
   "execution_count": 30,
   "metadata": {
    "colab": {
     "base_uri": "https://localhost:8080/",
     "height": 270
    },
    "id": "t_AxvL71aU55",
    "outputId": "7059f4fe-9a01-4fe7-d607-daa26d15b877"
   },
   "outputs": [
    {
     "data": {
      "text/html": [
       "<div>\n",
       "<style scoped>\n",
       "    .dataframe tbody tr th:only-of-type {\n",
       "        vertical-align: middle;\n",
       "    }\n",
       "\n",
       "    .dataframe tbody tr th {\n",
       "        vertical-align: top;\n",
       "    }\n",
       "\n",
       "    .dataframe thead th {\n",
       "        text-align: right;\n",
       "    }\n",
       "</style>\n",
       "<table border=\"1\" class=\"dataframe\">\n",
       "  <thead>\n",
       "    <tr style=\"text-align: right;\">\n",
       "      <th></th>\n",
       "      <th>MinTemp</th>\n",
       "      <th>MaxTemp</th>\n",
       "      <th>Rainfall</th>\n",
       "      <th>WindGustDir</th>\n",
       "      <th>WindGustSpeed</th>\n",
       "      <th>WindDir9am</th>\n",
       "      <th>WindDir3pm</th>\n",
       "      <th>WindSpeed9am</th>\n",
       "      <th>WindSpeed3pm</th>\n",
       "      <th>Humidity9am</th>\n",
       "      <th>Humidity3pm</th>\n",
       "      <th>Pressure9am</th>\n",
       "      <th>Pressure3pm</th>\n",
       "      <th>Temp9am</th>\n",
       "      <th>Temp3pm</th>\n",
       "      <th>RainToday</th>\n",
       "      <th>RainTomorrow</th>\n",
       "    </tr>\n",
       "  </thead>\n",
       "  <tbody>\n",
       "    <tr>\n",
       "      <th>0</th>\n",
       "      <td>0.190072</td>\n",
       "      <td>-0.047155</td>\n",
       "      <td>-0.206726</td>\n",
       "      <td>1.053962</td>\n",
       "      <td>0.306849</td>\n",
       "      <td>1.327464</td>\n",
       "      <td>1.366590</td>\n",
       "      <td>0.678821</td>\n",
       "      <td>0.615790</td>\n",
       "      <td>0.114615</td>\n",
       "      <td>-1.433267</td>\n",
       "      <td>-1.474929</td>\n",
       "      <td>-1.220790</td>\n",
       "      <td>-0.013434</td>\n",
       "      <td>0.015542</td>\n",
       "      <td>-0.536376</td>\n",
       "      <td>-0.533587</td>\n",
       "    </tr>\n",
       "    <tr>\n",
       "      <th>1</th>\n",
       "      <td>-0.748421</td>\n",
       "      <td>0.262410</td>\n",
       "      <td>-0.277605</td>\n",
       "      <td>1.267039</td>\n",
       "      <td>0.306849</td>\n",
       "      <td>-0.222839</td>\n",
       "      <td>1.586502</td>\n",
       "      <td>-1.128506</td>\n",
       "      <td>0.386397</td>\n",
       "      <td>-1.309386</td>\n",
       "      <td>-1.287260</td>\n",
       "      <td>-1.045248</td>\n",
       "      <td>-1.116039</td>\n",
       "      <td>0.032856</td>\n",
       "      <td>0.379293</td>\n",
       "      <td>-0.536376</td>\n",
       "      <td>-0.533587</td>\n",
       "    </tr>\n",
       "    <tr>\n",
       "      <th>2</th>\n",
       "      <td>0.111865</td>\n",
       "      <td>0.346837</td>\n",
       "      <td>-0.277605</td>\n",
       "      <td>1.480117</td>\n",
       "      <td>0.459151</td>\n",
       "      <td>1.327464</td>\n",
       "      <td>1.586502</td>\n",
       "      <td>0.565863</td>\n",
       "      <td>0.845183</td>\n",
       "      <td>-1.625831</td>\n",
       "      <td>-1.043915</td>\n",
       "      <td>-1.489746</td>\n",
       "      <td>-0.981360</td>\n",
       "      <td>0.619198</td>\n",
       "      <td>0.219243</td>\n",
       "      <td>-0.536376</td>\n",
       "      <td>-0.533587</td>\n",
       "    </tr>\n",
       "    <tr>\n",
       "      <th>3</th>\n",
       "      <td>-0.466873</td>\n",
       "      <td>0.670473</td>\n",
       "      <td>-0.277605</td>\n",
       "      <td>-0.863735</td>\n",
       "      <td>-1.216172</td>\n",
       "      <td>0.441577</td>\n",
       "      <td>-1.712177</td>\n",
       "      <td>-0.337800</td>\n",
       "      <td>-1.104659</td>\n",
       "      <td>-1.256645</td>\n",
       "      <td>-1.725281</td>\n",
       "      <td>-0.008086</td>\n",
       "      <td>-0.367819</td>\n",
       "      <td>0.171726</td>\n",
       "      <td>0.699395</td>\n",
       "      <td>-0.536376</td>\n",
       "      <td>-0.533587</td>\n",
       "    </tr>\n",
       "    <tr>\n",
       "      <th>4</th>\n",
       "      <td>0.831376</td>\n",
       "      <td>1.275533</td>\n",
       "      <td>-0.159474</td>\n",
       "      <td>1.053962</td>\n",
       "      <td>0.078396</td>\n",
       "      <td>-1.330198</td>\n",
       "      <td>-0.172794</td>\n",
       "      <td>-0.789632</td>\n",
       "      <td>0.157004</td>\n",
       "      <td>0.694763</td>\n",
       "      <td>-0.897908</td>\n",
       "      <td>-1.015615</td>\n",
       "      <td>-1.385399</td>\n",
       "      <td>0.125436</td>\n",
       "      <td>1.164996</td>\n",
       "      <td>-0.536376</td>\n",
       "      <td>-0.533587</td>\n",
       "    </tr>\n",
       "  </tbody>\n",
       "</table>\n",
       "</div>"
      ],
      "text/plain": [
       "    MinTemp   MaxTemp  Rainfall  WindGustDir  WindGustSpeed  WindDir9am  \\\n",
       "0  0.190072 -0.047155 -0.206726     1.053962       0.306849    1.327464   \n",
       "1 -0.748421  0.262410 -0.277605     1.267039       0.306849   -0.222839   \n",
       "2  0.111865  0.346837 -0.277605     1.480117       0.459151    1.327464   \n",
       "3 -0.466873  0.670473 -0.277605    -0.863735      -1.216172    0.441577   \n",
       "4  0.831376  1.275533 -0.159474     1.053962       0.078396   -1.330198   \n",
       "\n",
       "   WindDir3pm  WindSpeed9am  WindSpeed3pm  Humidity9am  Humidity3pm  \\\n",
       "0    1.366590      0.678821      0.615790     0.114615    -1.433267   \n",
       "1    1.586502     -1.128506      0.386397    -1.309386    -1.287260   \n",
       "2    1.586502      0.565863      0.845183    -1.625831    -1.043915   \n",
       "3   -1.712177     -0.337800     -1.104659    -1.256645    -1.725281   \n",
       "4   -0.172794     -0.789632      0.157004     0.694763    -0.897908   \n",
       "\n",
       "   Pressure9am  Pressure3pm   Temp9am   Temp3pm  RainToday  RainTomorrow  \n",
       "0    -1.474929    -1.220790 -0.013434  0.015542  -0.536376     -0.533587  \n",
       "1    -1.045248    -1.116039  0.032856  0.379293  -0.536376     -0.533587  \n",
       "2    -1.489746    -0.981360  0.619198  0.219243  -0.536376     -0.533587  \n",
       "3    -0.008086    -0.367819  0.171726  0.699395  -0.536376     -0.533587  \n",
       "4    -1.015615    -1.385399  0.125436  1.164996  -0.536376     -0.533587  "
      ]
     },
     "execution_count": 30,
     "metadata": {},
     "output_type": "execute_result"
    }
   ],
   "source": [
    "z_scores.head()"
   ]
  },
  {
   "cell_type": "code",
   "execution_count": 31,
   "metadata": {
    "id": "AP55m7XqaXl4"
   },
   "outputs": [],
   "source": [
    "outlier_indices = z_scores[(z_scores > 3) | (z_scores < -3)].dropna(how='all').index"
   ]
  },
  {
   "cell_type": "code",
   "execution_count": 32,
   "metadata": {
    "colab": {
     "base_uri": "https://localhost:8080/"
    },
    "id": "RXsN7QM4aZL4",
    "outputId": "209d5fb4-6986-45a6-f841-da6301bfc0bd"
   },
   "outputs": [
    {
     "data": {
      "text/plain": [
       "Int64Index([     8,     12,     52,     62,     68,    123,    267,    296,\n",
       "               356,    381,\n",
       "            ...\n",
       "            145046, 145095, 145189, 145239, 145250, 145251, 145252, 145278,\n",
       "            145279, 145393],\n",
       "           dtype='int64', length=6838)"
      ]
     },
     "execution_count": 32,
     "metadata": {},
     "output_type": "execute_result"
    }
   ],
   "source": [
    "outlier_indices"
   ]
  },
  {
   "cell_type": "code",
   "execution_count": 33,
   "metadata": {
    "id": "yZeKtgB4aa4I"
   },
   "outputs": [],
   "source": [
    "filtered_df = df.drop(outlier_indices)"
   ]
  },
  {
   "cell_type": "code",
   "execution_count": 34,
   "metadata": {
    "colab": {
     "base_uri": "https://localhost:8080/",
     "height": 270
    },
    "id": "0Q7J5rOlacA3",
    "outputId": "083d59b9-eaa5-4300-e277-f8af12320d90"
   },
   "outputs": [
    {
     "data": {
      "text/html": [
       "<div>\n",
       "<style scoped>\n",
       "    .dataframe tbody tr th:only-of-type {\n",
       "        vertical-align: middle;\n",
       "    }\n",
       "\n",
       "    .dataframe tbody tr th {\n",
       "        vertical-align: top;\n",
       "    }\n",
       "\n",
       "    .dataframe thead th {\n",
       "        text-align: right;\n",
       "    }\n",
       "</style>\n",
       "<table border=\"1\" class=\"dataframe\">\n",
       "  <thead>\n",
       "    <tr style=\"text-align: right;\">\n",
       "      <th></th>\n",
       "      <th>MinTemp</th>\n",
       "      <th>MaxTemp</th>\n",
       "      <th>Rainfall</th>\n",
       "      <th>WindGustDir</th>\n",
       "      <th>WindGustSpeed</th>\n",
       "      <th>WindDir9am</th>\n",
       "      <th>WindDir3pm</th>\n",
       "      <th>WindSpeed9am</th>\n",
       "      <th>WindSpeed3pm</th>\n",
       "      <th>Humidity9am</th>\n",
       "      <th>Humidity3pm</th>\n",
       "      <th>Pressure9am</th>\n",
       "      <th>Pressure3pm</th>\n",
       "      <th>Temp9am</th>\n",
       "      <th>Temp3pm</th>\n",
       "      <th>RainToday</th>\n",
       "      <th>RainTomorrow</th>\n",
       "    </tr>\n",
       "  </thead>\n",
       "  <tbody>\n",
       "    <tr>\n",
       "      <th>0</th>\n",
       "      <td>13.4</td>\n",
       "      <td>22.9</td>\n",
       "      <td>0.6</td>\n",
       "      <td>13</td>\n",
       "      <td>44.0</td>\n",
       "      <td>13</td>\n",
       "      <td>14</td>\n",
       "      <td>20.0</td>\n",
       "      <td>24.0</td>\n",
       "      <td>71.0</td>\n",
       "      <td>22.0</td>\n",
       "      <td>1007.7</td>\n",
       "      <td>1007.1</td>\n",
       "      <td>16.9</td>\n",
       "      <td>21.8</td>\n",
       "      <td>0</td>\n",
       "      <td>0</td>\n",
       "    </tr>\n",
       "    <tr>\n",
       "      <th>1</th>\n",
       "      <td>7.4</td>\n",
       "      <td>25.1</td>\n",
       "      <td>0.0</td>\n",
       "      <td>14</td>\n",
       "      <td>44.0</td>\n",
       "      <td>6</td>\n",
       "      <td>15</td>\n",
       "      <td>4.0</td>\n",
       "      <td>22.0</td>\n",
       "      <td>44.0</td>\n",
       "      <td>25.0</td>\n",
       "      <td>1010.6</td>\n",
       "      <td>1007.8</td>\n",
       "      <td>17.2</td>\n",
       "      <td>24.3</td>\n",
       "      <td>0</td>\n",
       "      <td>0</td>\n",
       "    </tr>\n",
       "    <tr>\n",
       "      <th>2</th>\n",
       "      <td>12.9</td>\n",
       "      <td>25.7</td>\n",
       "      <td>0.0</td>\n",
       "      <td>15</td>\n",
       "      <td>46.0</td>\n",
       "      <td>13</td>\n",
       "      <td>15</td>\n",
       "      <td>19.0</td>\n",
       "      <td>26.0</td>\n",
       "      <td>38.0</td>\n",
       "      <td>30.0</td>\n",
       "      <td>1007.6</td>\n",
       "      <td>1008.7</td>\n",
       "      <td>21.0</td>\n",
       "      <td>23.2</td>\n",
       "      <td>0</td>\n",
       "      <td>0</td>\n",
       "    </tr>\n",
       "    <tr>\n",
       "      <th>3</th>\n",
       "      <td>9.2</td>\n",
       "      <td>28.0</td>\n",
       "      <td>0.0</td>\n",
       "      <td>4</td>\n",
       "      <td>24.0</td>\n",
       "      <td>9</td>\n",
       "      <td>0</td>\n",
       "      <td>11.0</td>\n",
       "      <td>9.0</td>\n",
       "      <td>45.0</td>\n",
       "      <td>16.0</td>\n",
       "      <td>1017.6</td>\n",
       "      <td>1012.8</td>\n",
       "      <td>18.1</td>\n",
       "      <td>26.5</td>\n",
       "      <td>0</td>\n",
       "      <td>0</td>\n",
       "    </tr>\n",
       "    <tr>\n",
       "      <th>4</th>\n",
       "      <td>17.5</td>\n",
       "      <td>32.3</td>\n",
       "      <td>1.0</td>\n",
       "      <td>13</td>\n",
       "      <td>41.0</td>\n",
       "      <td>1</td>\n",
       "      <td>7</td>\n",
       "      <td>7.0</td>\n",
       "      <td>20.0</td>\n",
       "      <td>82.0</td>\n",
       "      <td>33.0</td>\n",
       "      <td>1010.8</td>\n",
       "      <td>1006.0</td>\n",
       "      <td>17.8</td>\n",
       "      <td>29.7</td>\n",
       "      <td>0</td>\n",
       "      <td>0</td>\n",
       "    </tr>\n",
       "  </tbody>\n",
       "</table>\n",
       "</div>"
      ],
      "text/plain": [
       "   MinTemp  MaxTemp  Rainfall  WindGustDir  WindGustSpeed  WindDir9am  \\\n",
       "0     13.4     22.9       0.6           13           44.0          13   \n",
       "1      7.4     25.1       0.0           14           44.0           6   \n",
       "2     12.9     25.7       0.0           15           46.0          13   \n",
       "3      9.2     28.0       0.0            4           24.0           9   \n",
       "4     17.5     32.3       1.0           13           41.0           1   \n",
       "\n",
       "   WindDir3pm  WindSpeed9am  WindSpeed3pm  Humidity9am  Humidity3pm  \\\n",
       "0          14          20.0          24.0         71.0         22.0   \n",
       "1          15           4.0          22.0         44.0         25.0   \n",
       "2          15          19.0          26.0         38.0         30.0   \n",
       "3           0          11.0           9.0         45.0         16.0   \n",
       "4           7           7.0          20.0         82.0         33.0   \n",
       "\n",
       "   Pressure9am  Pressure3pm  Temp9am  Temp3pm  RainToday  RainTomorrow  \n",
       "0       1007.7       1007.1     16.9     21.8          0             0  \n",
       "1       1010.6       1007.8     17.2     24.3          0             0  \n",
       "2       1007.6       1008.7     21.0     23.2          0             0  \n",
       "3       1017.6       1012.8     18.1     26.5          0             0  \n",
       "4       1010.8       1006.0     17.8     29.7          0             0  "
      ]
     },
     "execution_count": 34,
     "metadata": {},
     "output_type": "execute_result"
    }
   ],
   "source": [
    "filtered_df.head()"
   ]
  },
  {
   "cell_type": "code",
   "execution_count": 35,
   "metadata": {
    "colab": {
     "base_uri": "https://localhost:8080/",
     "height": 364
    },
    "id": "JGYx7Iw_adW4",
    "outputId": "f009b465-4354-4372-d077-34771825ca21"
   },
   "outputs": [
    {
     "data": {
      "text/html": [
       "<div>\n",
       "<style scoped>\n",
       "    .dataframe tbody tr th:only-of-type {\n",
       "        vertical-align: middle;\n",
       "    }\n",
       "\n",
       "    .dataframe tbody tr th {\n",
       "        vertical-align: top;\n",
       "    }\n",
       "\n",
       "    .dataframe thead th {\n",
       "        text-align: right;\n",
       "    }\n",
       "</style>\n",
       "<table border=\"1\" class=\"dataframe\">\n",
       "  <thead>\n",
       "    <tr style=\"text-align: right;\">\n",
       "      <th></th>\n",
       "      <th>MinTemp</th>\n",
       "      <th>MaxTemp</th>\n",
       "      <th>Rainfall</th>\n",
       "      <th>WindGustDir</th>\n",
       "      <th>WindGustSpeed</th>\n",
       "      <th>WindDir9am</th>\n",
       "      <th>WindDir3pm</th>\n",
       "      <th>WindSpeed9am</th>\n",
       "      <th>WindSpeed3pm</th>\n",
       "      <th>Humidity9am</th>\n",
       "      <th>Humidity3pm</th>\n",
       "      <th>Pressure9am</th>\n",
       "      <th>Pressure3pm</th>\n",
       "      <th>Temp9am</th>\n",
       "      <th>Temp3pm</th>\n",
       "      <th>RainToday</th>\n",
       "      <th>RainTomorrow</th>\n",
       "    </tr>\n",
       "  </thead>\n",
       "  <tbody>\n",
       "    <tr>\n",
       "      <th>count</th>\n",
       "      <td>133949.000000</td>\n",
       "      <td>133949.000000</td>\n",
       "      <td>133949.000000</td>\n",
       "      <td>133949.000000</td>\n",
       "      <td>133949.000000</td>\n",
       "      <td>133949.000000</td>\n",
       "      <td>133949.000000</td>\n",
       "      <td>133949.000000</td>\n",
       "      <td>133949.000000</td>\n",
       "      <td>133949.000000</td>\n",
       "      <td>133949.000000</td>\n",
       "      <td>133949.000000</td>\n",
       "      <td>133949.000000</td>\n",
       "      <td>133949.000000</td>\n",
       "      <td>133949.000000</td>\n",
       "      <td>133949.000000</td>\n",
       "      <td>133949.000000</td>\n",
       "    </tr>\n",
       "    <tr>\n",
       "      <th>mean</th>\n",
       "      <td>12.113283</td>\n",
       "      <td>23.281538</td>\n",
       "      <td>1.455044</td>\n",
       "      <td>8.016738</td>\n",
       "      <td>38.948289</td>\n",
       "      <td>6.979686</td>\n",
       "      <td>7.744149</td>\n",
       "      <td>13.480148</td>\n",
       "      <td>18.190077</td>\n",
       "      <td>68.804685</td>\n",
       "      <td>51.064788</td>\n",
       "      <td>1017.977463</td>\n",
       "      <td>1015.548204</td>\n",
       "      <td>16.954601</td>\n",
       "      <td>21.752566</td>\n",
       "      <td>0.205377</td>\n",
       "      <td>0.206720</td>\n",
       "    </tr>\n",
       "    <tr>\n",
       "      <th>std</th>\n",
       "      <td>6.352134</td>\n",
       "      <td>6.953651</td>\n",
       "      <td>3.841329</td>\n",
       "      <td>4.697560</td>\n",
       "      <td>11.744431</td>\n",
       "      <td>4.517195</td>\n",
       "      <td>4.550871</td>\n",
       "      <td>8.189204</td>\n",
       "      <td>8.160757</td>\n",
       "      <td>18.521501</td>\n",
       "      <td>20.102489</td>\n",
       "      <td>6.423382</td>\n",
       "      <td>6.390357</td>\n",
       "      <td>6.393949</td>\n",
       "      <td>6.720153</td>\n",
       "      <td>0.403978</td>\n",
       "      <td>0.404955</td>\n",
       "    </tr>\n",
       "    <tr>\n",
       "      <th>min</th>\n",
       "      <td>-6.900000</td>\n",
       "      <td>2.000000</td>\n",
       "      <td>0.000000</td>\n",
       "      <td>0.000000</td>\n",
       "      <td>6.000000</td>\n",
       "      <td>0.000000</td>\n",
       "      <td>0.000000</td>\n",
       "      <td>0.000000</td>\n",
       "      <td>0.000000</td>\n",
       "      <td>12.000000</td>\n",
       "      <td>1.000000</td>\n",
       "      <td>997.500000</td>\n",
       "      <td>995.300000</td>\n",
       "      <td>-2.400000</td>\n",
       "      <td>1.100000</td>\n",
       "      <td>0.000000</td>\n",
       "      <td>0.000000</td>\n",
       "    </tr>\n",
       "    <tr>\n",
       "      <th>25%</th>\n",
       "      <td>7.500000</td>\n",
       "      <td>18.000000</td>\n",
       "      <td>0.000000</td>\n",
       "      <td>4.000000</td>\n",
       "      <td>31.000000</td>\n",
       "      <td>3.000000</td>\n",
       "      <td>4.000000</td>\n",
       "      <td>7.000000</td>\n",
       "      <td>13.000000</td>\n",
       "      <td>57.000000</td>\n",
       "      <td>37.000000</td>\n",
       "      <td>1013.900000</td>\n",
       "      <td>1011.400000</td>\n",
       "      <td>12.300000</td>\n",
       "      <td>16.800000</td>\n",
       "      <td>0.000000</td>\n",
       "      <td>0.000000</td>\n",
       "    </tr>\n",
       "    <tr>\n",
       "      <th>50%</th>\n",
       "      <td>11.900000</td>\n",
       "      <td>22.700000</td>\n",
       "      <td>0.000000</td>\n",
       "      <td>9.000000</td>\n",
       "      <td>39.000000</td>\n",
       "      <td>7.000000</td>\n",
       "      <td>8.000000</td>\n",
       "      <td>13.000000</td>\n",
       "      <td>18.631141</td>\n",
       "      <td>69.000000</td>\n",
       "      <td>51.449288</td>\n",
       "      <td>1017.654577</td>\n",
       "      <td>1015.257963</td>\n",
       "      <td>16.700000</td>\n",
       "      <td>21.400000</td>\n",
       "      <td>0.000000</td>\n",
       "      <td>0.000000</td>\n",
       "    </tr>\n",
       "    <tr>\n",
       "      <th>75%</th>\n",
       "      <td>16.700000</td>\n",
       "      <td>28.200000</td>\n",
       "      <td>0.600000</td>\n",
       "      <td>12.000000</td>\n",
       "      <td>46.000000</td>\n",
       "      <td>11.000000</td>\n",
       "      <td>12.000000</td>\n",
       "      <td>19.000000</td>\n",
       "      <td>24.000000</td>\n",
       "      <td>82.000000</td>\n",
       "      <td>65.000000</td>\n",
       "      <td>1022.000000</td>\n",
       "      <td>1019.600000</td>\n",
       "      <td>21.500000</td>\n",
       "      <td>26.300000</td>\n",
       "      <td>0.000000</td>\n",
       "      <td>0.000000</td>\n",
       "    </tr>\n",
       "    <tr>\n",
       "      <th>max</th>\n",
       "      <td>31.000000</td>\n",
       "      <td>44.500000</td>\n",
       "      <td>27.600000</td>\n",
       "      <td>15.000000</td>\n",
       "      <td>78.000000</td>\n",
       "      <td>15.000000</td>\n",
       "      <td>15.000000</td>\n",
       "      <td>39.000000</td>\n",
       "      <td>44.000000</td>\n",
       "      <td>100.000000</td>\n",
       "      <td>100.000000</td>\n",
       "      <td>1037.900000</td>\n",
       "      <td>1035.300000</td>\n",
       "      <td>36.400000</td>\n",
       "      <td>42.300000</td>\n",
       "      <td>1.000000</td>\n",
       "      <td>1.000000</td>\n",
       "    </tr>\n",
       "  </tbody>\n",
       "</table>\n",
       "</div>"
      ],
      "text/plain": [
       "             MinTemp        MaxTemp       Rainfall    WindGustDir  \\\n",
       "count  133949.000000  133949.000000  133949.000000  133949.000000   \n",
       "mean       12.113283      23.281538       1.455044       8.016738   \n",
       "std         6.352134       6.953651       3.841329       4.697560   \n",
       "min        -6.900000       2.000000       0.000000       0.000000   \n",
       "25%         7.500000      18.000000       0.000000       4.000000   \n",
       "50%        11.900000      22.700000       0.000000       9.000000   \n",
       "75%        16.700000      28.200000       0.600000      12.000000   \n",
       "max        31.000000      44.500000      27.600000      15.000000   \n",
       "\n",
       "       WindGustSpeed     WindDir9am     WindDir3pm   WindSpeed9am  \\\n",
       "count  133949.000000  133949.000000  133949.000000  133949.000000   \n",
       "mean       38.948289       6.979686       7.744149      13.480148   \n",
       "std        11.744431       4.517195       4.550871       8.189204   \n",
       "min         6.000000       0.000000       0.000000       0.000000   \n",
       "25%        31.000000       3.000000       4.000000       7.000000   \n",
       "50%        39.000000       7.000000       8.000000      13.000000   \n",
       "75%        46.000000      11.000000      12.000000      19.000000   \n",
       "max        78.000000      15.000000      15.000000      39.000000   \n",
       "\n",
       "        WindSpeed3pm    Humidity9am    Humidity3pm    Pressure9am  \\\n",
       "count  133949.000000  133949.000000  133949.000000  133949.000000   \n",
       "mean       18.190077      68.804685      51.064788    1017.977463   \n",
       "std         8.160757      18.521501      20.102489       6.423382   \n",
       "min         0.000000      12.000000       1.000000     997.500000   \n",
       "25%        13.000000      57.000000      37.000000    1013.900000   \n",
       "50%        18.631141      69.000000      51.449288    1017.654577   \n",
       "75%        24.000000      82.000000      65.000000    1022.000000   \n",
       "max        44.000000     100.000000     100.000000    1037.900000   \n",
       "\n",
       "         Pressure3pm        Temp9am        Temp3pm      RainToday  \\\n",
       "count  133949.000000  133949.000000  133949.000000  133949.000000   \n",
       "mean     1015.548204      16.954601      21.752566       0.205377   \n",
       "std         6.390357       6.393949       6.720153       0.403978   \n",
       "min       995.300000      -2.400000       1.100000       0.000000   \n",
       "25%      1011.400000      12.300000      16.800000       0.000000   \n",
       "50%      1015.257963      16.700000      21.400000       0.000000   \n",
       "75%      1019.600000      21.500000      26.300000       0.000000   \n",
       "max      1035.300000      36.400000      42.300000       1.000000   \n",
       "\n",
       "        RainTomorrow  \n",
       "count  133949.000000  \n",
       "mean        0.206720  \n",
       "std         0.404955  \n",
       "min         0.000000  \n",
       "25%         0.000000  \n",
       "50%         0.000000  \n",
       "75%         0.000000  \n",
       "max         1.000000  "
      ]
     },
     "execution_count": 35,
     "metadata": {},
     "output_type": "execute_result"
    }
   ],
   "source": [
    "filtered_df.describe()"
   ]
  },
  {
   "cell_type": "code",
   "execution_count": 36,
   "metadata": {
    "colab": {
     "base_uri": "https://localhost:8080/"
    },
    "id": "ryZZ02pqafHu",
    "outputId": "215b4ec4-5bef-468d-fc90-d02d47900705"
   },
   "outputs": [
    {
     "name": "stdout",
     "output_type": "stream",
     "text": [
      "<class 'pandas.core.frame.DataFrame'>\n",
      "Int64Index: 133949 entries, 0 to 145458\n",
      "Data columns (total 17 columns):\n",
      " #   Column         Non-Null Count   Dtype  \n",
      "---  ------         --------------   -----  \n",
      " 0   MinTemp        133949 non-null  float64\n",
      " 1   MaxTemp        133949 non-null  float64\n",
      " 2   Rainfall       133949 non-null  float64\n",
      " 3   WindGustDir    133949 non-null  int32  \n",
      " 4   WindGustSpeed  133949 non-null  float64\n",
      " 5   WindDir9am     133949 non-null  int32  \n",
      " 6   WindDir3pm     133949 non-null  int32  \n",
      " 7   WindSpeed9am   133949 non-null  float64\n",
      " 8   WindSpeed3pm   133949 non-null  float64\n",
      " 9   Humidity9am    133949 non-null  float64\n",
      " 10  Humidity3pm    133949 non-null  float64\n",
      " 11  Pressure9am    133949 non-null  float64\n",
      " 12  Pressure3pm    133949 non-null  float64\n",
      " 13  Temp9am        133949 non-null  float64\n",
      " 14  Temp3pm        133949 non-null  float64\n",
      " 15  RainToday      133949 non-null  int32  \n",
      " 16  RainTomorrow   133949 non-null  int32  \n",
      "dtypes: float64(12), int32(5)\n",
      "memory usage: 15.8 MB\n"
     ]
    }
   ],
   "source": [
    "#Just to make sure that all our values are either int or float.\n",
    "filtered_df.info()"
   ]
  },
  {
   "cell_type": "code",
   "execution_count": 37,
   "metadata": {
    "colab": {
     "base_uri": "https://localhost:8080/",
     "height": 270
    },
    "id": "_JHMkzNUtr57",
    "outputId": "5dfe22ce-a0fd-4050-ddfb-a7386eb36205"
   },
   "outputs": [
    {
     "data": {
      "text/html": [
       "<div>\n",
       "<style scoped>\n",
       "    .dataframe tbody tr th:only-of-type {\n",
       "        vertical-align: middle;\n",
       "    }\n",
       "\n",
       "    .dataframe tbody tr th {\n",
       "        vertical-align: top;\n",
       "    }\n",
       "\n",
       "    .dataframe thead th {\n",
       "        text-align: right;\n",
       "    }\n",
       "</style>\n",
       "<table border=\"1\" class=\"dataframe\">\n",
       "  <thead>\n",
       "    <tr style=\"text-align: right;\">\n",
       "      <th></th>\n",
       "      <th>MinTemp</th>\n",
       "      <th>MaxTemp</th>\n",
       "      <th>Rainfall</th>\n",
       "      <th>WindGustDir</th>\n",
       "      <th>WindGustSpeed</th>\n",
       "      <th>WindDir9am</th>\n",
       "      <th>WindDir3pm</th>\n",
       "      <th>WindSpeed9am</th>\n",
       "      <th>WindSpeed3pm</th>\n",
       "      <th>Humidity9am</th>\n",
       "      <th>Humidity3pm</th>\n",
       "      <th>Pressure9am</th>\n",
       "      <th>Pressure3pm</th>\n",
       "      <th>Temp9am</th>\n",
       "      <th>Temp3pm</th>\n",
       "      <th>RainToday</th>\n",
       "      <th>RainTomorrow</th>\n",
       "    </tr>\n",
       "  </thead>\n",
       "  <tbody>\n",
       "    <tr>\n",
       "      <th>0</th>\n",
       "      <td>13.4</td>\n",
       "      <td>22.9</td>\n",
       "      <td>0.6</td>\n",
       "      <td>13</td>\n",
       "      <td>44.0</td>\n",
       "      <td>13</td>\n",
       "      <td>14</td>\n",
       "      <td>20.0</td>\n",
       "      <td>24.0</td>\n",
       "      <td>71.0</td>\n",
       "      <td>22.0</td>\n",
       "      <td>1007.7</td>\n",
       "      <td>1007.1</td>\n",
       "      <td>16.9</td>\n",
       "      <td>21.8</td>\n",
       "      <td>0</td>\n",
       "      <td>0</td>\n",
       "    </tr>\n",
       "    <tr>\n",
       "      <th>1</th>\n",
       "      <td>7.4</td>\n",
       "      <td>25.1</td>\n",
       "      <td>0.0</td>\n",
       "      <td>14</td>\n",
       "      <td>44.0</td>\n",
       "      <td>6</td>\n",
       "      <td>15</td>\n",
       "      <td>4.0</td>\n",
       "      <td>22.0</td>\n",
       "      <td>44.0</td>\n",
       "      <td>25.0</td>\n",
       "      <td>1010.6</td>\n",
       "      <td>1007.8</td>\n",
       "      <td>17.2</td>\n",
       "      <td>24.3</td>\n",
       "      <td>0</td>\n",
       "      <td>0</td>\n",
       "    </tr>\n",
       "    <tr>\n",
       "      <th>2</th>\n",
       "      <td>12.9</td>\n",
       "      <td>25.7</td>\n",
       "      <td>0.0</td>\n",
       "      <td>15</td>\n",
       "      <td>46.0</td>\n",
       "      <td>13</td>\n",
       "      <td>15</td>\n",
       "      <td>19.0</td>\n",
       "      <td>26.0</td>\n",
       "      <td>38.0</td>\n",
       "      <td>30.0</td>\n",
       "      <td>1007.6</td>\n",
       "      <td>1008.7</td>\n",
       "      <td>21.0</td>\n",
       "      <td>23.2</td>\n",
       "      <td>0</td>\n",
       "      <td>0</td>\n",
       "    </tr>\n",
       "    <tr>\n",
       "      <th>3</th>\n",
       "      <td>9.2</td>\n",
       "      <td>28.0</td>\n",
       "      <td>0.0</td>\n",
       "      <td>4</td>\n",
       "      <td>24.0</td>\n",
       "      <td>9</td>\n",
       "      <td>0</td>\n",
       "      <td>11.0</td>\n",
       "      <td>9.0</td>\n",
       "      <td>45.0</td>\n",
       "      <td>16.0</td>\n",
       "      <td>1017.6</td>\n",
       "      <td>1012.8</td>\n",
       "      <td>18.1</td>\n",
       "      <td>26.5</td>\n",
       "      <td>0</td>\n",
       "      <td>0</td>\n",
       "    </tr>\n",
       "    <tr>\n",
       "      <th>4</th>\n",
       "      <td>17.5</td>\n",
       "      <td>32.3</td>\n",
       "      <td>1.0</td>\n",
       "      <td>13</td>\n",
       "      <td>41.0</td>\n",
       "      <td>1</td>\n",
       "      <td>7</td>\n",
       "      <td>7.0</td>\n",
       "      <td>20.0</td>\n",
       "      <td>82.0</td>\n",
       "      <td>33.0</td>\n",
       "      <td>1010.8</td>\n",
       "      <td>1006.0</td>\n",
       "      <td>17.8</td>\n",
       "      <td>29.7</td>\n",
       "      <td>0</td>\n",
       "      <td>0</td>\n",
       "    </tr>\n",
       "  </tbody>\n",
       "</table>\n",
       "</div>"
      ],
      "text/plain": [
       "   MinTemp  MaxTemp  Rainfall  WindGustDir  WindGustSpeed  WindDir9am  \\\n",
       "0     13.4     22.9       0.6           13           44.0          13   \n",
       "1      7.4     25.1       0.0           14           44.0           6   \n",
       "2     12.9     25.7       0.0           15           46.0          13   \n",
       "3      9.2     28.0       0.0            4           24.0           9   \n",
       "4     17.5     32.3       1.0           13           41.0           1   \n",
       "\n",
       "   WindDir3pm  WindSpeed9am  WindSpeed3pm  Humidity9am  Humidity3pm  \\\n",
       "0          14          20.0          24.0         71.0         22.0   \n",
       "1          15           4.0          22.0         44.0         25.0   \n",
       "2          15          19.0          26.0         38.0         30.0   \n",
       "3           0          11.0           9.0         45.0         16.0   \n",
       "4           7           7.0          20.0         82.0         33.0   \n",
       "\n",
       "   Pressure9am  Pressure3pm  Temp9am  Temp3pm  RainToday  RainTomorrow  \n",
       "0       1007.7       1007.1     16.9     21.8          0             0  \n",
       "1       1010.6       1007.8     17.2     24.3          0             0  \n",
       "2       1007.6       1008.7     21.0     23.2          0             0  \n",
       "3       1017.6       1012.8     18.1     26.5          0             0  \n",
       "4       1010.8       1006.0     17.8     29.7          0             0  "
      ]
     },
     "execution_count": 37,
     "metadata": {},
     "output_type": "execute_result"
    }
   ],
   "source": [
    "filtered_df.head()"
   ]
  },
  {
   "cell_type": "code",
   "execution_count": 38,
   "metadata": {
    "colab": {
     "base_uri": "https://localhost:8080/",
     "height": 466
    },
    "id": "Nq4n3Leqtt2j",
    "outputId": "7d8f86e5-a407-4e59-a6d4-cf1e3919e4b9"
   },
   "outputs": [
    {
     "data": {
      "text/plain": [
       "<Axes: xlabel='RainTomorrow', ylabel='count'>"
      ]
     },
     "execution_count": 38,
     "metadata": {},
     "output_type": "execute_result"
    },
    {
     "data": {
      "image/png": "[encoded data removed]",
      "text/plain": [
       "<Figure size 640x480 with 1 Axes>"
      ]
     },
     "metadata": {},
     "output_type": "display_data"
    }
   ],
   "source": [
    "#Countplot of RainTomorrow variable\n",
    "sns.countplot(x='RainTomorrow', data=filtered_df)"
   ]
  },
  {
   "cell_type": "code",
   "execution_count": 39,
   "metadata": {
    "colab": {
     "base_uri": "https://localhost:8080/",
     "height": 543
    },
    "id": "iyHBs64Dt24h",
    "outputId": "6fdd2589-1357-4af0-97fb-6cdb6974693d"
   },
   "outputs": [
    {
     "data": {
      "text/plain": [
       "<Axes: >"
      ]
     },
     "execution_count": 39,
     "metadata": {},
     "output_type": "execute_result"
    },
    {
     "data": {
      "image/png": "[encoded data removed]",
      "text/plain": [
       "<Figure size 640x480 with 1 Axes>"
      ]
     },
     "metadata": {},
     "output_type": "display_data"
    }
   ],
   "source": [
    "#This is how the features relate to the target variable\n",
    "filtered_df.corr()['RainTomorrow'][:-1].sort_values().plot(kind='bar')"
   ]
  },
  {
   "cell_type": "code",
   "execution_count": 40,
   "metadata": {
    "id": "8XjKZe2UuoPn"
   },
   "outputs": [],
   "source": [
    "X = filtered_df.drop('RainTomorrow', axis=1).values\n",
    "y = filtered_df['RainTomorrow'].values"
   ]
  },
  {
   "cell_type": "code",
   "execution_count": 41,
   "metadata": {
    "id": "yA1UGDTpvakC"
   },
   "outputs": [],
   "source": [
    "from sklearn.model_selection import train_test_split"
   ]
  },
  {
   "cell_type": "code",
   "execution_count": 42,
   "metadata": {
    "id": "gwDhWWKUvhAH"
   },
   "outputs": [],
   "source": [
    "X_train, X_test, y_train, y_test = train_test_split(X, y, test_size=0.3, random_state=101)"
   ]
  },
  {
   "cell_type": "code",
   "execution_count": 43,
   "metadata": {
    "id": "x0sQDLClvtmO"
   },
   "outputs": [],
   "source": [
    "from sklearn.preprocessing import StandardScaler"
   ]
  },
  {
   "cell_type": "code",
   "execution_count": 44,
   "metadata": {
    "id": "T8f2pglKv4Qm"
   },
   "outputs": [],
   "source": [
    "scaler = StandardScaler()"
   ]
  },
  {
   "cell_type": "code",
   "execution_count": 45,
   "metadata": {
    "id": "suMQyt6Zv6nA"
   },
   "outputs": [],
   "source": [
    "X_train = scaler.fit_transform(X_train)"
   ]
  },
  {
   "cell_type": "code",
   "execution_count": 46,
   "metadata": {
    "id": "pFzxh_ckwAJr"
   },
   "outputs": [],
   "source": [
    "X_test = scaler.transform(X_test)"
   ]
  },
  {
   "cell_type": "code",
   "execution_count": 47,
   "metadata": {
    "id": "sHyxvAyYwcNg"
   },
   "outputs": [],
   "source": [
    "from tensorflow.keras.models import Sequential"
   ]
  },
  {
   "cell_type": "code",
   "execution_count": 48,
   "metadata": {
    "id": "t9NbEnX_w0rD"
   },
   "outputs": [],
   "source": [
    "from tensorflow.keras.layers import Dense, Dropout"
   ]
  },
  {
   "cell_type": "code",
   "execution_count": 49,
   "metadata": {
    "colab": {
     "base_uri": "https://localhost:8080/"
    },
    "id": "gs26QKGPw87j",
    "outputId": "a0d0678e-92e5-4f92-d6a1-95466988546a"
   },
   "outputs": [
    {
     "data": {
      "text/plain": [
       "(93764, 16)"
      ]
     },
     "execution_count": 49,
     "metadata": {},
     "output_type": "execute_result"
    }
   ],
   "source": [
    "X_train.shape"
   ]
  },
  {
   "cell_type": "code",
   "execution_count": 50,
   "metadata": {},
   "outputs": [
    {
     "data": {
      "text/plain": [
       "(40185, 16)"
      ]
     },
     "execution_count": 50,
     "metadata": {},
     "output_type": "execute_result"
    }
   ],
   "source": [
    "X_test.shape"
   ]
  },
  {
   "cell_type": "code",
   "execution_count": 51,
   "metadata": {
    "id": "k2yCnieQxA43"
   },
   "outputs": [],
   "source": [
    "# model = Sequential()\n",
    "\n",
    "# model.add(Dense(16, activation='relu'))\n",
    "# model.add(Dense(16, activation='relu'))\n",
    "# model.add(Dense(16, activation='relu'))\n",
    "# model.add(Dense(16, activation='relu'))\n",
    "# model.add(Dense(16, activation='relu'))\n",
    "\n",
    "# #Binary Classification problem\n",
    "# model.add(Dense(1, activation='sigmoid'))\n",
    "\n",
    "# model.compile(loss='binary_crossentropy', optimizer='adam')"
   ]
  },
  {
   "cell_type": "code",
   "execution_count": 52,
   "metadata": {
    "colab": {
     "background_save": true,
     "base_uri": "https://localhost:8080/"
    },
    "id": "OHMvpjDhyGwD",
    "outputId": "9d2c4f16-37f5-4113-bbb8-3b16c70d0af1"
   },
   "outputs": [],
   "source": [
    "# model.fit(x=X_train, y=y_train, epochs=600, validation_data=(X_test, y_test))"
   ]
  },
  {
   "cell_type": "code",
   "execution_count": 53,
   "metadata": {
    "id": "gHr3ovLBydqF"
   },
   "outputs": [],
   "source": [
    "# losses = pd.DataFrame(model.history.history)"
   ]
  },
  {
   "cell_type": "code",
   "execution_count": 54,
   "metadata": {
    "id": "GqRE3stUzKB7"
   },
   "outputs": [],
   "source": [
    "# losses.plot()"
   ]
  },
  {
   "cell_type": "code",
   "execution_count": 55,
   "metadata": {},
   "outputs": [],
   "source": [
    "# predictions = (model.predict(X_test) > 0.5).astype(\"int32\")"
   ]
  },
  {
   "cell_type": "code",
   "execution_count": 56,
   "metadata": {},
   "outputs": [],
   "source": [
    "# from sklearn.metrics import classification_report, confusion_matrix"
   ]
  },
  {
   "cell_type": "code",
   "execution_count": 57,
   "metadata": {},
   "outputs": [],
   "source": [
    "# print(classification_report(y_test, predictions))"
   ]
  },
  {
   "cell_type": "code",
   "execution_count": 58,
   "metadata": {},
   "outputs": [],
   "source": [
    "# print(confusion_matrix(y_test, predictions))"
   ]
  },
  {
   "cell_type": "code",
   "execution_count": 59,
   "metadata": {
    "id": "GgufgfO0z_m2"
   },
   "outputs": [],
   "source": [
    "# model = Sequential()\n",
    "\n",
    "# model.add(Dense(16, activation='relu'))\n",
    "# model.add(Dense(16, activation='relu'))\n",
    "# model.add(Dense(16, activation='relu'))\n",
    "# model.add(Dense(16, activation='relu'))\n",
    "# model.add(Dense(16, activation='relu'))\n",
    "\n",
    "# #Binary Classification problem\n",
    "# model.add(Dense(1, activation='sigmoid'))\n",
    "\n",
    "# model.compile(loss='binary_crossentropy', optimizer='adam')"
   ]
  },
  {
   "cell_type": "code",
   "execution_count": 60,
   "metadata": {
    "id": "uhej2JhV0LQ_"
   },
   "outputs": [],
   "source": [
    "# from tensorflow.keras.callbacks import EarlyStopping"
   ]
  },
  {
   "cell_type": "code",
   "execution_count": 61,
   "metadata": {
    "id": "uf_xJeFC0jf0"
   },
   "outputs": [],
   "source": [
    "# early_stop = EarlyStopping(monitor='val_loss', mode='min', verbose=1, patience=25)"
   ]
  },
  {
   "cell_type": "code",
   "execution_count": 62,
   "metadata": {
    "colab": {
     "background_save": true
    },
    "id": "LtRQaEv61vhP",
    "outputId": "0dffc356-b62f-4722-f3ff-9fbb4bc3447c"
   },
   "outputs": [],
   "source": [
    "# model.fit(x=X_train, y=y_train, epochs=600, validation_data=(X_test, y_test),\n",
    "#           callbacks=[early_stop])"
   ]
  },
  {
   "cell_type": "code",
   "execution_count": 63,
   "metadata": {
    "colab": {
     "background_save": true
    },
    "id": "IHJ6-bdR2S84",
    "outputId": "f439910c-3443-43b1-f0f8-e3d6d1aaa64f"
   },
   "outputs": [],
   "source": [
    "# model_loss = pd.DataFrame(model.history.history)\n",
    "# model_loss.plot()"
   ]
  },
  {
   "cell_type": "code",
   "execution_count": 64,
   "metadata": {},
   "outputs": [],
   "source": [
    "# from sklearn.metrics import classification_report, confusion_matrix\n",
    "\n",
    "# print(classification_report(y_test, predictions))\n",
    "\n",
    "# print(confusion_matrix(y_test, predictions))"
   ]
  },
  {
   "cell_type": "code",
   "execution_count": 65,
   "metadata": {
    "colab": {
     "background_save": true
    },
    "id": "XXTMCYlr25gu"
   },
   "outputs": [],
   "source": [
    "from tensorflow.keras.callbacks import EarlyStopping\n",
    "from tensorflow.keras.layers import Dropout\n",
    "early_stop = EarlyStopping(monitor='val_loss', mode='min', verbose=1, patience=25)"
   ]
  },
  {
   "cell_type": "code",
   "execution_count": 66,
   "metadata": {
    "colab": {
     "background_save": true
    },
    "id": "EDtifVs42tp9"
   },
   "outputs": [],
   "source": [
    "model = Sequential()\n",
    "\n",
    "#Input layer\n",
    "model.add(Dense(16, activation='linear'))\n",
    "\n",
    "#Hidden Layers\n",
    "model.add(Dense(16, activation='relu'))\n",
    "model.add(Dense(16, activation='relu'))\n",
    "model.add(Dense(16, activation='relu'))\n",
    "model.add(Dense(16, activation='relu'))\n",
    "model.add(Dense(16, activation='relu'))\n",
    "\n",
    "#Output layer for Binary Classification problem\n",
    "model.add(Dense(1, activation='sigmoid'))\n",
    "\n",
    "model.compile(loss='binary_crossentropy', optimizer='adam')"
   ]
  },
  {
   "cell_type": "code",
   "execution_count": 67,
   "metadata": {
    "colab": {
     "background_save": true
    },
    "id": "LkZaRsg24MnY",
    "outputId": "df3bab99-9e62-4bc5-803c-c2da6979dadf"
   },
   "outputs": [
    {
     "name": "stdout",
     "output_type": "stream",
     "text": [
      "Epoch 1/600\n",
      "2931/2931 [==============================] - 13s 4ms/step - loss: 0.3705 - val_loss: 0.3566\n",
      "Epoch 2/600\n",
      "2931/2931 [==============================] - 12s 4ms/step - loss: 0.3525 - val_loss: 0.3524\n",
      "Epoch 3/600\n",
      "2931/2931 [==============================] - 14s 5ms/step - loss: 0.3499 - val_loss: 0.3500\n",
      "Epoch 4/600\n",
      "2931/2931 [==============================] - 12s 4ms/step - loss: 0.3482 - val_loss: 0.3522\n",
      "Epoch 5/600\n",
      "2931/2931 [==============================] - 11s 4ms/step - loss: 0.3467 - val_loss: 0.3477\n",
      "Epoch 6/600\n",
      "2931/2931 [==============================] - 12s 4ms/step - loss: 0.3458 - val_loss: 0.3470\n",
      "Epoch 7/600\n",
      "2931/2931 [==============================] - 13s 4ms/step - loss: 0.3447 - val_loss: 0.3472\n",
      "Epoch 8/600\n",
      "2931/2931 [==============================] - 12s 4ms/step - loss: 0.3440 - val_loss: 0.3467\n",
      "Epoch 9/600\n",
      "2931/2931 [==============================] - 11s 4ms/step - loss: 0.3436 - val_loss: 0.3441\n",
      "Epoch 10/600\n",
      "2931/2931 [==============================] - 12s 4ms/step - loss: 0.3427 - val_loss: 0.3461\n",
      "Epoch 11/600\n",
      "2931/2931 [==============================] - 14s 5ms/step - loss: 0.3426 - val_loss: 0.3466\n",
      "Epoch 12/600\n",
      "2931/2931 [==============================] - 12s 4ms/step - loss: 0.3421 - val_loss: 0.3464\n",
      "Epoch 13/600\n",
      "2931/2931 [==============================] - 12s 4ms/step - loss: 0.3419 - val_loss: 0.3468\n",
      "Epoch 14/600\n",
      "2931/2931 [==============================] - 12s 4ms/step - loss: 0.3413 - val_loss: 0.3459\n",
      "Epoch 15/600\n",
      "2931/2931 [==============================] - 13s 4ms/step - loss: 0.3408 - val_loss: 0.3431\n",
      "Epoch 16/600\n",
      "2931/2931 [==============================] - 14s 5ms/step - loss: 0.3410 - val_loss: 0.3461\n",
      "Epoch 17/600\n",
      "2931/2931 [==============================] - 12s 4ms/step - loss: 0.3407 - val_loss: 0.3428\n",
      "Epoch 18/600\n",
      "2931/2931 [==============================] - 11s 4ms/step - loss: 0.3404 - val_loss: 0.3431\n",
      "Epoch 19/600\n",
      "2931/2931 [==============================] - 11s 4ms/step - loss: 0.3396 - val_loss: 0.3433\n",
      "Epoch 20/600\n",
      "2931/2931 [==============================] - 13s 4ms/step - loss: 0.3396 - val_loss: 0.3427\n",
      "Epoch 21/600\n",
      "2931/2931 [==============================] - 12s 4ms/step - loss: 0.3393 - val_loss: 0.3445\n",
      "Epoch 22/600\n",
      "2931/2931 [==============================] - 12s 4ms/step - loss: 0.3391 - val_loss: 0.3440\n",
      "Epoch 23/600\n",
      "2931/2931 [==============================] - 11s 4ms/step - loss: 0.3390 - val_loss: 0.3428\n",
      "Epoch 24/600\n",
      "2931/2931 [==============================] - 13s 5ms/step - loss: 0.3382 - val_loss: 0.3419\n",
      "Epoch 25/600\n",
      "2931/2931 [==============================] - 11s 4ms/step - loss: 0.3385 - val_loss: 0.3436\n",
      "Epoch 26/600\n",
      "2931/2931 [==============================] - 11s 4ms/step - loss: 0.3385 - val_loss: 0.3428\n",
      "Epoch 27/600\n",
      "2931/2931 [==============================] - 12s 4ms/step - loss: 0.3382 - val_loss: 0.3441\n",
      "Epoch 28/600\n",
      "2931/2931 [==============================] - 11s 4ms/step - loss: 0.3381 - val_loss: 0.3422\n",
      "Epoch 29/600\n",
      "2931/2931 [==============================] - 11s 4ms/step - loss: 0.3376 - val_loss: 0.3449\n",
      "Epoch 30/600\n",
      "2931/2931 [==============================] - 10s 4ms/step - loss: 0.3376 - val_loss: 0.3467\n",
      "Epoch 31/600\n",
      "2931/2931 [==============================] - 11s 4ms/step - loss: 0.3376 - val_loss: 0.3422\n",
      "Epoch 32/600\n",
      "2931/2931 [==============================] - 12s 4ms/step - loss: 0.3374 - val_loss: 0.3449\n",
      "Epoch 33/600\n",
      "2931/2931 [==============================] - 10s 4ms/step - loss: 0.3370 - val_loss: 0.3460\n",
      "Epoch 34/600\n",
      "2931/2931 [==============================] - 12s 4ms/step - loss: 0.3372 - val_loss: 0.3437\n",
      "Epoch 35/600\n",
      "2931/2931 [==============================] - 13s 4ms/step - loss: 0.3368 - val_loss: 0.3457\n",
      "Epoch 36/600\n",
      "2931/2931 [==============================] - 10s 4ms/step - loss: 0.3366 - val_loss: 0.3436\n",
      "Epoch 37/600\n",
      "2931/2931 [==============================] - 11s 4ms/step - loss: 0.3365 - val_loss: 0.3417\n",
      "Epoch 38/600\n",
      "2931/2931 [==============================] - 14s 5ms/step - loss: 0.3362 - val_loss: 0.3439\n",
      "Epoch 39/600\n",
      "2931/2931 [==============================] - 11s 4ms/step - loss: 0.3361 - val_loss: 0.3439\n",
      "Epoch 40/600\n",
      "2931/2931 [==============================] - 11s 4ms/step - loss: 0.3363 - val_loss: 0.3447\n",
      "Epoch 41/600\n",
      "2931/2931 [==============================] - 11s 4ms/step - loss: 0.3362 - val_loss: 0.3433\n",
      "Epoch 42/600\n",
      "2931/2931 [==============================] - 12s 4ms/step - loss: 0.3362 - val_loss: 0.3435\n",
      "Epoch 43/600\n",
      "2931/2931 [==============================] - 13s 4ms/step - loss: 0.3357 - val_loss: 0.3425\n",
      "Epoch 44/600\n",
      "2931/2931 [==============================] - 11s 4ms/step - loss: 0.3357 - val_loss: 0.3463\n",
      "Epoch 45/600\n",
      "2931/2931 [==============================] - 12s 4ms/step - loss: 0.3357 - val_loss: 0.3428\n",
      "Epoch 46/600\n",
      "2931/2931 [==============================] - 12s 4ms/step - loss: 0.3356 - val_loss: 0.3447\n",
      "Epoch 47/600\n",
      "2931/2931 [==============================] - 11s 4ms/step - loss: 0.3356 - val_loss: 0.3465\n",
      "Epoch 48/600\n",
      "2931/2931 [==============================] - 11s 4ms/step - loss: 0.3354 - val_loss: 0.3448\n",
      "Epoch 49/600\n",
      "2931/2931 [==============================] - 12s 4ms/step - loss: 0.3352 - val_loss: 0.3427\n",
      "Epoch 50/600\n",
      "2931/2931 [==============================] - 11s 4ms/step - loss: 0.3353 - val_loss: 0.3433\n",
      "Epoch 51/600\n",
      "2931/2931 [==============================] - 12s 4ms/step - loss: 0.3351 - val_loss: 0.3458\n",
      "Epoch 52/600\n",
      "2931/2931 [==============================] - 12s 4ms/step - loss: 0.3350 - val_loss: 0.3444\n",
      "Epoch 53/600\n",
      "2931/2931 [==============================] - 14s 5ms/step - loss: 0.3351 - val_loss: 0.3442\n",
      "Epoch 54/600\n",
      "2931/2931 [==============================] - 13s 4ms/step - loss: 0.3349 - val_loss: 0.3444\n",
      "Epoch 55/600\n",
      "2931/2931 [==============================] - 12s 4ms/step - loss: 0.3348 - val_loss: 0.3452\n",
      "Epoch 56/600\n",
      "2931/2931 [==============================] - 12s 4ms/step - loss: 0.3349 - val_loss: 0.3460\n",
      "Epoch 57/600\n",
      "2931/2931 [==============================] - 12s 4ms/step - loss: 0.3348 - val_loss: 0.3472\n",
      "Epoch 58/600\n",
      "2931/2931 [==============================] - 15s 5ms/step - loss: 0.3345 - val_loss: 0.3439\n",
      "Epoch 59/600\n",
      "2931/2931 [==============================] - 11s 4ms/step - loss: 0.3344 - val_loss: 0.3439\n",
      "Epoch 60/600\n",
      "2931/2931 [==============================] - 11s 4ms/step - loss: 0.3344 - val_loss: 0.3464\n",
      "Epoch 61/600\n",
      "2931/2931 [==============================] - 14s 5ms/step - loss: 0.3342 - val_loss: 0.3438\n",
      "Epoch 62/600\n",
      "2931/2931 [==============================] - 13s 4ms/step - loss: 0.3340 - val_loss: 0.3445\n",
      "Epoch 62: early stopping\n"
     ]
    },
    {
     "data": {
      "text/plain": [
       "<keras.callbacks.History at 0x1f15eb500a0>"
      ]
     },
     "execution_count": 67,
     "metadata": {},
     "output_type": "execute_result"
    }
   ],
   "source": [
    "model.fit(x=X_train, y=y_train, epochs=600, validation_data=(X_test, y_test),\n",
    "          callbacks=[early_stop])"
   ]
  },
  {
   "cell_type": "code",
   "execution_count": 77,
   "metadata": {
    "colab": {
     "background_save": true
    },
    "id": "R-pUcuBd4YPY",
    "outputId": "2caf0af3-feb4-4f59-ed76-227f7ecfe604"
   },
   "outputs": [
    {
     "ename": "TypeError",
     "evalue": "no numeric data to plot",
     "output_type": "error",
     "traceback": [
      "\u001b[1;31m---------------------------------------------------------------------------\u001b[0m",
      "\u001b[1;31mTypeError\u001b[0m                                 Traceback (most recent call last)",
      "Cell \u001b[1;32mIn[77], line 2\u001b[0m\n\u001b[0;32m      1\u001b[0m model_loss \u001b[38;5;241m=\u001b[39m pd\u001b[38;5;241m.\u001b[39mDataFrame(model\u001b[38;5;241m.\u001b[39mhistory\u001b[38;5;241m.\u001b[39mhistory)\n\u001b[1;32m----> 2\u001b[0m \u001b[43mmodel_loss\u001b[49m\u001b[38;5;241;43m.\u001b[39;49m\u001b[43mplot\u001b[49m\u001b[43m(\u001b[49m\u001b[43m)\u001b[49m\n",
      "File \u001b[1;32m~\\anaconda3\\lib\\site-packages\\pandas\\plotting\\_core.py:1000\u001b[0m, in \u001b[0;36mPlotAccessor.__call__\u001b[1;34m(self, *args, **kwargs)\u001b[0m\n\u001b[0;32m    997\u001b[0m             label_name \u001b[38;5;241m=\u001b[39m label_kw \u001b[38;5;129;01mor\u001b[39;00m data\u001b[38;5;241m.\u001b[39mcolumns\n\u001b[0;32m    998\u001b[0m             data\u001b[38;5;241m.\u001b[39mcolumns \u001b[38;5;241m=\u001b[39m label_name\n\u001b[1;32m-> 1000\u001b[0m \u001b[38;5;28;01mreturn\u001b[39;00m plot_backend\u001b[38;5;241m.\u001b[39mplot(data, kind\u001b[38;5;241m=\u001b[39mkind, \u001b[38;5;241m*\u001b[39m\u001b[38;5;241m*\u001b[39mkwargs)\n",
      "File \u001b[1;32m~\\anaconda3\\lib\\site-packages\\pandas\\plotting\\_matplotlib\\__init__.py:71\u001b[0m, in \u001b[0;36mplot\u001b[1;34m(data, kind, **kwargs)\u001b[0m\n\u001b[0;32m     69\u001b[0m         kwargs[\u001b[38;5;124m\"\u001b[39m\u001b[38;5;124max\u001b[39m\u001b[38;5;124m\"\u001b[39m] \u001b[38;5;241m=\u001b[39m \u001b[38;5;28mgetattr\u001b[39m(ax, \u001b[38;5;124m\"\u001b[39m\u001b[38;5;124mleft_ax\u001b[39m\u001b[38;5;124m\"\u001b[39m, ax)\n\u001b[0;32m     70\u001b[0m plot_obj \u001b[38;5;241m=\u001b[39m PLOT_CLASSES[kind](data, \u001b[38;5;241m*\u001b[39m\u001b[38;5;241m*\u001b[39mkwargs)\n\u001b[1;32m---> 71\u001b[0m \u001b[43mplot_obj\u001b[49m\u001b[38;5;241;43m.\u001b[39;49m\u001b[43mgenerate\u001b[49m\u001b[43m(\u001b[49m\u001b[43m)\u001b[49m\n\u001b[0;32m     72\u001b[0m plot_obj\u001b[38;5;241m.\u001b[39mdraw()\n\u001b[0;32m     73\u001b[0m \u001b[38;5;28;01mreturn\u001b[39;00m plot_obj\u001b[38;5;241m.\u001b[39mresult\n",
      "File \u001b[1;32m~\\anaconda3\\lib\\site-packages\\pandas\\plotting\\_matplotlib\\core.py:450\u001b[0m, in \u001b[0;36mMPLPlot.generate\u001b[1;34m(self)\u001b[0m\n\u001b[0;32m    448\u001b[0m \u001b[38;5;28;01mdef\u001b[39;00m \u001b[38;5;21mgenerate\u001b[39m(\u001b[38;5;28mself\u001b[39m) \u001b[38;5;241m-\u001b[39m\u001b[38;5;241m>\u001b[39m \u001b[38;5;28;01mNone\u001b[39;00m:\n\u001b[0;32m    449\u001b[0m     \u001b[38;5;28mself\u001b[39m\u001b[38;5;241m.\u001b[39m_args_adjust()\n\u001b[1;32m--> 450\u001b[0m     \u001b[38;5;28;43mself\u001b[39;49m\u001b[38;5;241;43m.\u001b[39;49m\u001b[43m_compute_plot_data\u001b[49m\u001b[43m(\u001b[49m\u001b[43m)\u001b[49m\n\u001b[0;32m    451\u001b[0m     \u001b[38;5;28mself\u001b[39m\u001b[38;5;241m.\u001b[39m_setup_subplots()\n\u001b[0;32m    452\u001b[0m     \u001b[38;5;28mself\u001b[39m\u001b[38;5;241m.\u001b[39m_make_plot()\n",
      "File \u001b[1;32m~\\anaconda3\\lib\\site-packages\\pandas\\plotting\\_matplotlib\\core.py:635\u001b[0m, in \u001b[0;36mMPLPlot._compute_plot_data\u001b[1;34m(self)\u001b[0m\n\u001b[0;32m    633\u001b[0m \u001b[38;5;66;03m# no non-numeric frames or series allowed\u001b[39;00m\n\u001b[0;32m    634\u001b[0m \u001b[38;5;28;01mif\u001b[39;00m is_empty:\n\u001b[1;32m--> 635\u001b[0m     \u001b[38;5;28;01mraise\u001b[39;00m \u001b[38;5;167;01mTypeError\u001b[39;00m(\u001b[38;5;124m\"\u001b[39m\u001b[38;5;124mno numeric data to plot\u001b[39m\u001b[38;5;124m\"\u001b[39m)\n\u001b[0;32m    637\u001b[0m \u001b[38;5;28mself\u001b[39m\u001b[38;5;241m.\u001b[39mdata \u001b[38;5;241m=\u001b[39m numeric_data\u001b[38;5;241m.\u001b[39mapply(\u001b[38;5;28mself\u001b[39m\u001b[38;5;241m.\u001b[39m_convert_to_ndarray)\n",
      "\u001b[1;31mTypeError\u001b[0m: no numeric data to plot"
     ]
    }
   ],
   "source": [
    "model_loss = pd.DataFrame(model.history.history)\n",
    "model_loss.plot()\n",
    "#plt.savefig('Loss plot for ANN final.png')"
   ]
  },
  {
   "cell_type": "code",
   "execution_count": 69,
   "metadata": {
    "colab": {
     "background_save": true
    },
    "id": "cF5ILpKq4riQ",
    "outputId": "f8eccc37-5d22-4d8f-b229-f27e1777b021"
   },
   "outputs": [
    {
     "name": "stdout",
     "output_type": "stream",
     "text": [
      "1256/1256 [==============================] - 2s 2ms/step\n"
     ]
    }
   ],
   "source": [
    "predictions = (model.predict(X_test) > 0.5).astype(\"int32\")"
   ]
  },
  {
   "cell_type": "code",
   "execution_count": 70,
   "metadata": {
    "colab": {
     "background_save": true
    },
    "id": "DObrIOCC41Sl"
   },
   "outputs": [],
   "source": [
    "from sklearn.metrics import classification_report, confusion_matrix"
   ]
  },
  {
   "cell_type": "code",
   "execution_count": 71,
   "metadata": {
    "colab": {
     "background_save": true
    },
    "id": "aYxw9iHK5AqK"
   },
   "outputs": [
    {
     "name": "stdout",
     "output_type": "stream",
     "text": [
      "              precision    recall  f1-score   support\n",
      "\n",
      "           0       0.88      0.94      0.91     31944\n",
      "           1       0.69      0.50      0.58      8241\n",
      "\n",
      "    accuracy                           0.85     40185\n",
      "   macro avg       0.79      0.72      0.75     40185\n",
      "weighted avg       0.84      0.85      0.84     40185\n",
      "\n"
     ]
    }
   ],
   "source": [
    "print(classification_report(y_test, predictions))"
   ]
  },
  {
   "cell_type": "code",
   "execution_count": 72,
   "metadata": {
    "colab": {
     "background_save": true
    },
    "id": "01zpiTiz5Fyp"
   },
   "outputs": [
    {
     "name": "stdout",
     "output_type": "stream",
     "text": [
      "[[30125  1819]\n",
      " [ 4131  4110]]\n"
     ]
    }
   ],
   "source": [
    "print(confusion_matrix(y_test, predictions))"
   ]
  },
  {
   "cell_type": "code",
   "execution_count": 73,
   "metadata": {},
   "outputs": [
    {
     "data": {
      "text/plain": [
       "<sklearn.metrics._plot.confusion_matrix.ConfusionMatrixDisplay at 0x1f1620335b0>"
      ]
     },
     "execution_count": 73,
     "metadata": {},
     "output_type": "execute_result"
    },
    {
     "data": {
      "image/png": "[encoded data removed]",
      "text/plain": [
       "<Figure size 640x480 with 2 Axes>"
      ]
     },
     "metadata": {},
     "output_type": "display_data"
    }
   ],
   "source": [
    "from sklearn.metrics import ConfusionMatrixDisplay\n",
    "ConfusionMatrixDisplay.from_predictions(y_test, predictions)\n",
    "#plt.savefig('CF for ANN.png')"
   ]
  },
  {
   "cell_type": "code",
   "execution_count": 75,
   "metadata": {},
   "outputs": [
    {
     "data": {
      "image/png": "[encoded data removed]",
      "text/plain": [
       "<Figure size 640x480 with 2 Axes>"
      ]
     },
     "metadata": {},
     "output_type": "display_data"
    }
   ],
   "source": [
    "sns.heatmap(confusion_matrix(y_test, predictions), cmap=\"coolwarm\", annot=True, fmt='g')\n",
    "#plt.savefig('ANN Matrix Final.png')"
   ]
  },
  {
   "cell_type": "code",
   "execution_count": null,
   "metadata": {},
   "outputs": [],
   "source": []
  }
 ],
 "metadata": {
  "colab": {
   "provenance": []
  },
  "kernelspec": {
   "display_name": "Python 3 (ipykernel)",
   "language": "python",
   "name": "python3"
  },
  "language_info": {
   "codemirror_mode": {
    "name": "ipython",
    "version": 3
   },
   "file_extension": ".py",
   "mimetype": "text/x-python",
   "name": "python",
   "nbconvert_exporter": "python",
   "pygments_lexer": "ipython3",
   "version": "3.10.9"
  }
 },
 "nbformat": 4,
 "nbformat_minor": 1
}
